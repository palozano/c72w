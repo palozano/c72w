{
 "cells": [
  {
   "cell_type": "code",
   "execution_count": 1,
   "metadata": {},
   "outputs": [
    {
     "name": "stdout",
     "output_type": "stream",
     "text": [
      "Populating the interactive namespace from numpy and matplotlib\n"
     ]
    }
   ],
   "source": [
    "%pylab inline\n",
    "%load_ext autoreload"
   ]
  },
  {
   "cell_type": "code",
   "execution_count": 2,
   "metadata": {},
   "outputs": [
    {
     "name": "stdout",
     "output_type": "stream",
     "text": [
      "The autoreload extension is already loaded. To reload it, use:\n",
      "  %reload_ext autoreload\n"
     ]
    }
   ],
   "source": [
    "import pandas as pd\n",
    "import json\n",
    "from collections import defaultdict\n",
    "from functools import reduce\n",
    "import copy\n",
    "import numpy as np\n",
    "\n",
    "\n",
    "import datetime as dt\n",
    "pd.set_option('display.max_columns', 500)\n",
    "\n",
    "import time\n",
    "%load_ext autoreload\n",
    "\n",
    "from collections import defaultdict\n",
    "from collections import Counter\n",
    "\n",
    "from functools import lru_cache\n",
    "import seaborn as sns\n",
    "\n",
    "from scipy.special import expit"
   ]
  },
  {
   "cell_type": "code",
   "execution_count": 3,
   "metadata": {},
   "outputs": [],
   "source": [
    "# Complexity 72h code\n",
    "\n",
    "# PACKAGES\n",
    "import numpy as np\n",
    "import random\n",
    "\n",
    "# CLASSES\n",
    "\n",
    "# Individual\n",
    "class agent():\n",
    "    def __init__(self, number, coop, payoff=0):\n",
    "        self.number = number\n",
    "        self.coop = coop\n",
    "        self.payoff = payoff\n",
    "        \n",
    "        self.backup = list()\n",
    "\n",
    "    #change the coop variable\n",
    "    def set_coop(self, coop):\n",
    "        self.coop = coop\n",
    "\n",
    "    def __repr__(self):\n",
    "        return(f\"Hi I'm agent {self.number}, I'm {self.coop}\")\n",
    "    \n",
    "    def save_stuff(self):\n",
    "        self.backup.append((self.coop,self.payoff))\n",
    "        \n",
    "\n",
    "\n",
    "\n",
    "# Network\n",
    "class circle():\n",
    "    def __init__(self, n, p, w, b, c=1, all_coop = True):\n",
    "        self.b = b\n",
    "        self.c = c\n",
    "\n",
    "        self.p = p\n",
    "        self.n = n\n",
    "        self.w = w\n",
    "        self.arr = [agent(i, all_coop) for i in range(n)]\n",
    "        \n",
    "        self.global_coop = n if all_coop else 0\n",
    "\n",
    "\n",
    "\n",
    "        \n",
    "    def access(self, index): # for accessing\n",
    "        return self.arr[index%self.n]\n",
    "    \n",
    "    def accessIndex(self, index):\n",
    "        return index%self.n\n",
    "\n",
    "    def choose_one_rand(self): #pick one node at random\n",
    "        index = np.random.choice(self.n, 1)[0]\n",
    "        return self.access(index)\n",
    "    \n",
    "    def choose_index_rand(self): #pick one node at random\n",
    "        return random.randrange(0, self.n)\n",
    "    \n",
    "    \n",
    "    \n",
    "    \n",
    "\n",
    "    def flip_agent(self, index_flipped): #initialize the ring with 1 cooperator\n",
    "        current = self.access(index_flipped)\n",
    "        current.coop = not current.coop\n",
    "        \n",
    "        if current.coop: self.global_coop += 1\n",
    "        else: self.global_coop -= 1\n",
    "        \n",
    "\n",
    "    def count_coop(self):\n",
    "        return sum([i.coop for i in self.arr])\n",
    "\n",
    "\n",
    "    def make_action(self): #iterazione\n",
    "        \n",
    "        self.update_all_payoff()\n",
    "        \n",
    "        index = self.choose_index_rand()\n",
    "        if random.random() > self.p:\n",
    "            self.action_local_on(index)\n",
    "        else:\n",
    "            self.action_global_on(index)\n",
    "        \n",
    "        #[i.save_stuff() for i in self.arr]\n",
    "        \n",
    "        #string = \"-\"\n",
    "        #for i in self.arr:\n",
    "        #    string += \"c-\" if i.coop else \"d-\"\n",
    "        #print(string)\n",
    "        \n",
    "        \n",
    "        \n",
    "\n",
    "    # take a local action\n",
    "    def action_local_on(self, index):\n",
    "        # select left or rigth\n",
    "        #if random.random() > 0.5:\n",
    "        #    choosen = self.accessIndex(index+1)  \n",
    "        #else:\n",
    "        #    choosen = self.accessIndex(index-1)\n",
    "        \n",
    "        ###################\n",
    "        \n",
    "        random_tmp = random.random()\n",
    "        \n",
    "        A = self.w * self.access(index).payoff\n",
    "        B = self.w * self.access(index+1).payoff\n",
    "        C = self.w * self.access(index-1).payoff\n",
    "        \n",
    "        logitA = expit( A ) / ( expit( C ) + expit( B ) + expit( A ) )\n",
    "        logitB = expit( B ) / ( expit( C ) + expit( B ) + expit( A ) )\n",
    "        logitC = expit( C ) / ( expit( C ) + expit( B ) + expit( A ) )\n",
    "               \n",
    "        if random_tmp < logitC: \n",
    "            choosen = self.accessIndex(index-1)\n",
    "        elif (random_tmp >= logitC) and (random_tmp <  logitC + logitA): \n",
    "            choosen = self.accessIndex(index)\n",
    "        else:\n",
    "            choosen = self.accessIndex(index+1)\n",
    "        \n",
    "        ###################\n",
    "        \n",
    "        \n",
    "        \n",
    "        self.copy_strategy(index, choosen)\n",
    "                \n",
    "\n",
    "            \n",
    "\n",
    "    # take a global action\n",
    "    def action_global_on(self, index):\n",
    "        choosen_as_rand = self.choose_one_rand().number\n",
    "        self.copy_strategy(index, choosen_as_rand)\n",
    "\n",
    "\n",
    "            \n",
    "    # compute logistic prob\n",
    "    def copy_strategy(self, index, neighbor_index):\n",
    "        # return true: if we need to copy the strategy of the other\n",
    "        # return false: if we need to kepp the strategy\n",
    "        exponent =  self.w * (self.access(index).payoff - self.access(neighbor_index).payoff)\n",
    "        copy = random.random() > expit(exponent) \n",
    "        \n",
    "        #if exponent > 1000:\n",
    "        #    copy = True\n",
    "        #elif exponent < -1000: \n",
    "        #    return\n",
    "        #else:\n",
    "        #    copy = random.random() > 1/(1+np.exp(-exponent))\n",
    "    \n",
    "        if copy:\n",
    "            self.access(index).coop = self.access(neighbor_index).coop\n",
    "            self.global_coop = sum([i.coop for i in self.arr])\n",
    "            #if self.access(neighbor_index).coop: self.global_coop += 1\n",
    "            #else: self.global_coop -= 1\n",
    "        \n",
    "        \n",
    "\n",
    "    def update_all_payoff(self):\n",
    "        for a in self.arr:\n",
    "            if a.coop:\n",
    "                #give to other the payoff\n",
    "                self.access(a.number + 1).payoff += self.b\n",
    "                self.access(a.number - 1).payoff += self.b\n",
    "                a.payoff -= 2 * self.c\n",
    "            else:\n",
    "                pass\n",
    "\n",
    "            \n",
    "            \n",
    "            "
   ]
  },
  {
   "cell_type": "code",
   "execution_count": 119,
   "metadata": {},
   "outputs": [],
   "source": [
    "c = circle(10, p=0, w=0.5, b=4, all_coop=False)\n",
    "c.flip_agent(0)"
   ]
  },
  {
   "cell_type": "code",
   "execution_count": 68,
   "metadata": {},
   "outputs": [
    {
     "name": "stdout",
     "output_type": "stream",
     "text": [
      "44.9 µs ± 1.5 µs per loop (mean ± std. dev. of 7 runs, 10000 loops each)\n"
     ]
    }
   ],
   "source": [
    "#%%timeit\n",
    "#c.make_action()"
   ]
  },
  {
   "cell_type": "code",
   "execution_count": 137,
   "metadata": {},
   "outputs": [],
   "source": [
    "#%%capture\n",
    "#%timeit\n",
    "\n",
    "\n",
    "c = circle(500, p=0, w=0.5, b=4.5, all_coop=False)\n",
    "c.flip_agent(0)\n",
    "\n",
    "nCoop = list()\n",
    "itera = 0 \n",
    "while True:\n",
    "    itera += 1\n",
    "    if itera%20 == 0:\n",
    "        nCoop.append(c.global_coop)\n",
    "    \n",
    "    #print(c.global_coop)\n",
    "    #nCoop.append(c.global_coop)\n",
    "    if c.global_coop == 0 or c.global_coop == c.n: \n",
    "        break\n",
    "        \n",
    "    c.make_action()"
   ]
  },
  {
   "cell_type": "code",
   "execution_count": 138,
   "metadata": {},
   "outputs": [
    {
     "data": {
      "text/plain": [
       "787"
      ]
     },
     "execution_count": 138,
     "metadata": {},
     "output_type": "execute_result"
    }
   ],
   "source": [
    "itera"
   ]
  },
  {
   "cell_type": "code",
   "execution_count": 139,
   "metadata": {},
   "outputs": [
    {
     "data": {
      "text/plain": [
       "39"
      ]
     },
     "execution_count": 139,
     "metadata": {},
     "output_type": "execute_result"
    }
   ],
   "source": [
    "len(nCoop)"
   ]
  },
  {
   "cell_type": "code",
   "execution_count": 140,
   "metadata": {},
   "outputs": [
    {
     "data": {
      "text/plain": [
       "[<matplotlib.lines.Line2D at 0x7f0ef8b00d68>]"
      ]
     },
     "execution_count": 140,
     "metadata": {},
     "output_type": "execute_result"
    },
    {
     "data": {
      "image/png": "[encoded data removed]",
      "text/plain": [
       "<Figure size 432x288 with 1 Axes>"
      ]
     },
     "metadata": {
      "needs_background": "light"
     },
     "output_type": "display_data"
    }
   ],
   "source": [
    "plt.plot(nCoop)"
   ]
  },
  {
   "cell_type": "code",
   "execution_count": 10,
   "metadata": {},
   "outputs": [
    {
     "data": {
      "image/png": "[encoded data removed]",
      "text/plain": [
       "<Figure size 432x288 with 1 Axes>"
      ]
     },
     "metadata": {
      "needs_background": "light"
     },
     "output_type": "display_data"
    }
   ],
   "source": [
    "#for ag in c.arr:\n",
    "#    plt.plot([j for i,j in ag.backup])"
   ]
  },
  {
   "cell_type": "code",
   "execution_count": 77,
   "metadata": {},
   "outputs": [
    {
     "data": {
      "image/png": "[encoded data removed]",
      "text/plain": [
       "<Figure size 432x288 with 1 Axes>"
      ]
     },
     "metadata": {
      "needs_background": "light"
     },
     "output_type": "display_data"
    }
   ],
   "source": [
    "#for ag in c.arr:\n",
    "#    plt.plot([i for i,j in ag.backup])"
   ]
  },
  {
   "cell_type": "code",
   "execution_count": null,
   "metadata": {},
   "outputs": [],
   "source": []
  },
  {
   "cell_type": "code",
   "execution_count": null,
   "metadata": {},
   "outputs": [],
   "source": []
  },
  {
   "cell_type": "code",
   "execution_count": null,
   "metadata": {},
   "outputs": [],
   "source": []
  },
  {
   "cell_type": "code",
   "execution_count": null,
   "metadata": {},
   "outputs": [],
   "source": []
  },
  {
   "cell_type": "code",
   "execution_count": null,
   "metadata": {},
   "outputs": [],
   "source": []
  },
  {
   "cell_type": "code",
   "execution_count": null,
   "metadata": {},
   "outputs": [],
   "source": []
  },
  {
   "cell_type": "code",
   "execution_count": null,
   "metadata": {},
   "outputs": [],
   "source": []
  },
  {
   "cell_type": "markdown",
   "metadata": {},
   "source": [
    "# Run Parallel "
   ]
  },
  {
   "cell_type": "code",
   "execution_count": 4,
   "metadata": {},
   "outputs": [],
   "source": [
    "from multiprocessing.pool import Pool\n",
    "from tqdm import tqdm"
   ]
  },
  {
   "cell_type": "code",
   "execution_count": 7,
   "metadata": {},
   "outputs": [],
   "source": [
    "def runModel(i):\n",
    "    random.seed(i)\n",
    "    c = circle(100, p=0, w=0.0001, b=4, all_coop=False)\n",
    "    c.flip_agent(0)\n",
    "\n",
    "    nCoop = list()\n",
    "    itera = 0 \n",
    "    while True:\n",
    "        itera += 1\n",
    "        if itera%20 == 0:\n",
    "            nCoop.append(c.global_coop)\n",
    "\n",
    "       \n",
    "        if c.global_coop == 0 or c.global_coop == c.n: \n",
    "            nCoop.append(c.global_coop)\n",
    "            break\n",
    "\n",
    "        c.make_action()\n",
    "    \n",
    "    return nCoop"
   ]
  },
  {
   "cell_type": "code",
   "execution_count": 8,
   "metadata": {},
   "outputs": [
    {
     "name": "stderr",
     "output_type": "stream",
     "text": [
      "\n",
      "  0%|          | 0/30 [00:00<?, ?it/s]\u001b[A\n",
      " 10%|█         | 3/30 [00:22<03:21,  7.44s/it]\u001b[A\n",
      " 87%|████████▋ | 26/30 [00:23<00:20,  5.23s/it]\u001b[A\n",
      " 90%|█████████ | 27/30 [00:29<00:16,  5.55s/it]\u001b[A\n",
      "100%|██████████| 30/30 [00:29<00:00,  1.01it/s]\u001b[A"
     ]
    }
   ],
   "source": [
    "nRun = 30\n",
    "with Pool(4) as p:\n",
    "      r = list(tqdm(p.imap(runModel, range(nRun)), total=nRun))"
   ]
  },
  {
   "cell_type": "code",
   "execution_count": 9,
   "metadata": {},
   "outputs": [
    {
     "name": "stdout",
     "output_type": "stream",
     "text": [
      "5\n",
      "0.16666666666666666\n"
     ]
    }
   ],
   "source": [
    "tmp = 0\n",
    "for path in r:\n",
    "    if path[-1] != 0:\n",
    "        tmp += 1\n",
    "\n",
    "print(tmp)\n",
    "print(tmp/nRun)"
   ]
  },
  {
   "cell_type": "code",
   "execution_count": 10,
   "metadata": {},
   "outputs": [
    {
     "data": {
      "image/png": "[encoded data removed]",
      "text/plain": [
       "<Figure size 432x288 with 1 Axes>"
      ]
     },
     "metadata": {
      "needs_background": "light"
     },
     "output_type": "display_data"
    }
   ],
   "source": [
    "for path in r:\n",
    "    plt.plot(path)\n",
    "    plt.xlabel('time')\n",
    "    plt.ylabel('num of cooperators')\n",
    "    #plt.title('fuck off we dont know you', fontsize=70)\n",
    "    plt.savefig('goodone.png')"
   ]
  },
  {
   "cell_type": "code",
   "execution_count": 11,
   "metadata": {},
   "outputs": [
    {
     "data": {
      "image/png": "[encoded data removed]",
      "text/plain": [
       "<Figure size 432x288 with 1 Axes>"
      ]
     },
     "metadata": {
      "needs_background": "light"
     },
     "output_type": "display_data"
    }
   ],
   "source": [
    "sns.distplot([len(i) for i in r])\n",
    "plt.xlabel('finishing round')\n",
    "plt.ylabel('')\n",
    "plt.savefig('distgoodone.png')"
   ]
  },
  {
   "cell_type": "code",
   "execution_count": 8,
   "metadata": {},
   "outputs": [],
   "source": [
    "# ratio"
   ]
  },
  {
   "cell_type": "code",
   "execution_count": 18,
   "metadata": {},
   "outputs": [
    {
     "data": {
      "text/plain": [
       "Counter({0: 94, 100: 6})"
      ]
     },
     "execution_count": 18,
     "metadata": {},
     "output_type": "execute_result"
    }
   ],
   "source": [
    "final = Counter([i[-1] for i in r])\n",
    "final"
   ]
  },
  {
   "cell_type": "code",
   "execution_count": 19,
   "metadata": {},
   "outputs": [
    {
     "data": {
      "text/plain": [
       "0.94"
      ]
     },
     "execution_count": 19,
     "metadata": {},
     "output_type": "execute_result"
    }
   ],
   "source": [
    "final[list(final.keys())[0]]/sum(list(final.values()))"
   ]
  },
  {
   "cell_type": "code",
   "execution_count": 20,
   "metadata": {},
   "outputs": [
    {
     "data": {
      "text/plain": [
       "0.06"
      ]
     },
     "execution_count": 20,
     "metadata": {},
     "output_type": "execute_result"
    }
   ],
   "source": [
    "final[list(final.keys())[1]]/sum(list(final.values()))"
   ]
  },
  {
   "cell_type": "markdown",
   "metadata": {},
   "source": [
    "# Check exp"
   ]
  },
  {
   "cell_type": "code",
   "execution_count": 289,
   "metadata": {},
   "outputs": [
    {
     "data": {
      "text/plain": [
       "0.9999546021312976"
      ]
     },
     "execution_count": 289,
     "metadata": {},
     "output_type": "execute_result"
    }
   ],
   "source": [
    "exponent = 10\n",
    "1/(1+np.exp(-exponent))"
   ]
  },
  {
   "cell_type": "code",
   "execution_count": 290,
   "metadata": {},
   "outputs": [
    {
     "data": {
      "text/plain": [
       "4.5397868702434395e-05"
      ]
     },
     "execution_count": 290,
     "metadata": {},
     "output_type": "execute_result"
    }
   ],
   "source": [
    "exponent = -10\n",
    "1/(1+np.exp(-exponent))"
   ]
  },
  {
   "cell_type": "code",
   "execution_count": 325,
   "metadata": {},
   "outputs": [],
   "source": [
    "from scipy.special import expit"
   ]
  },
  {
   "cell_type": "code",
   "execution_count": 326,
   "metadata": {},
   "outputs": [
    {
     "data": {
      "text/plain": [
       "[<matplotlib.lines.Line2D at 0x153d58240>]"
      ]
     },
     "execution_count": 326,
     "metadata": {},
     "output_type": "execute_result"
    },
    {
     "data": {
      "image/png": "[encoded data removed]",
      "text/plain": [
       "<Figure size 432x288 with 1 Axes>"
      ]
     },
     "metadata": {
      "needs_background": "light"
     },
     "output_type": "display_data"
    }
   ],
   "source": [
    "plt.plot([expit(i) for i in range(-10, 10)])"
   ]
  },
  {
   "cell_type": "code",
   "execution_count": null,
   "metadata": {},
   "outputs": [],
   "source": []
  }
 ],
 "metadata": {
  "kernelspec": {
   "display_name": "Python 3",
   "language": "python",
   "name": "python3"
  },
  "language_info": {
   "codemirror_mode": {
    "name": "ipython",
    "version": 3
   },
   "file_extension": ".py",
   "mimetype": "text/x-python",
   "name": "python",
   "nbconvert_exporter": "python",
   "pygments_lexer": "ipython3",
   "version": "3.7.3"
  }
 },
 "nbformat": 4,
 "nbformat_minor": 2
}
