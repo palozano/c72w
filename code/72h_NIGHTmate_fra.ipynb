{
 "cells": [
  {
   "cell_type": "code",
   "execution_count": 3,
   "metadata": {},
   "outputs": [
    {
     "name": "stdout",
     "output_type": "stream",
     "text": [
      "Populating the interactive namespace from numpy and matplotlib\n",
      "The autoreload extension is already loaded. To reload it, use:\n",
      "  %reload_ext autoreload\n"
     ]
    }
   ],
   "source": [
    "%pylab inline\n",
    "%load_ext autoreload"
   ]
  },
  {
   "cell_type": "code",
   "execution_count": 4,
   "metadata": {},
   "outputs": [
    {
     "name": "stdout",
     "output_type": "stream",
     "text": [
      "The autoreload extension is already loaded. To reload it, use:\n",
      "  %reload_ext autoreload\n"
     ]
    }
   ],
   "source": [
    "import pandas as pd\n",
    "import json\n",
    "from collections import defaultdict\n",
    "from functools import reduce\n",
    "import copy\n",
    "import numpy as np\n",
    "\n",
    "\n",
    "import datetime as dt\n",
    "pd.set_option('display.max_columns', 500)\n",
    "\n",
    "import time\n",
    "%load_ext autoreload\n",
    "\n",
    "from collections import defaultdict\n",
    "from collections import Counter\n",
    "\n",
    "from functools import lru_cache\n",
    "import seaborn as sns\n",
    "\n",
    "from scipy.special import expit\n",
    "from functools import partial\n",
    "from multiprocessing import Pool\n",
    "from tqdm import tqdm"
   ]
  },
  {
   "cell_type": "code",
   "execution_count": 5,
   "metadata": {},
   "outputs": [],
   "source": [
    "import random "
   ]
  },
  {
   "cell_type": "code",
   "execution_count": 6,
   "metadata": {
    "collapsed": true
   },
   "outputs": [],
   "source": [
    "class agent():\n",
    "    def __init__(self, number, coop, payoff=0):\n",
    "        self.number = number\n",
    "        self.coop = coop\n",
    "        self.payoff = payoff\n",
    "\n",
    "    def set_coop(self, coop):\n",
    "        self.coop = coop\n",
    "\n",
    "        \n",
    "class circle():\n",
    "    def __init__(self, n, p, w, b, c = 1, all_coop = True, extra_random = 0):\n",
    "        self.b = b\n",
    "        self.c = c\n",
    "\n",
    "        self.p = p\n",
    "        self.n = n\n",
    "        self.w = w\n",
    "        self.extra_random = extra_random\n",
    "        self.arr = [agent(i, all_coop) for i in range(n)]\n",
    "        \n",
    "        self.global_coop = n if all_coop else 0\n",
    "\n",
    "        \n",
    "    def access(self, index):\n",
    "        return self.arr[index%self.n]\n",
    "    \n",
    "    def accessIndex(self, index):\n",
    "        return index%self.n\n",
    "\n",
    "    def choose_one_rand(self):\n",
    "        index = np.random.choice(self.n, 1)[0]\n",
    "        return self.access(index)\n",
    "    \n",
    "    def choose_index_rand(self):\n",
    "        return random.randrange(0, self.n)\n",
    "    \n",
    "    def flip_agent(self, index_flipped):\n",
    "        current = self.access(index_flipped)\n",
    "        current.coop = not current.coop\n",
    "        self.global_coop = sum([i.coop for i in self.arr])\n",
    "        \n",
    " \n",
    "\n",
    "    def count_coop(self):\n",
    "        return sum([i.coop for i in self.arr])\n",
    "\n",
    "\n",
    "    def make_action(self):\n",
    "        \n",
    "        self.update_all_payoff()\n",
    "        index = self.choose_index_rand()\n",
    "        \n",
    "        #if random.random() > self.p:\n",
    "        self.action_local_on(index)\n",
    "        #else:\n",
    "        #    self.action_global_on(index)\n",
    "        \n",
    "        self.reset_all_payoff()\n",
    "        \n",
    "\n",
    "    def action_local_on(self, index): \n",
    "        \n",
    "        ags =  [self.access(index-1), self.access(index), self.access(index+1)] + [self.choose_one_rand() for i in range(self.extra_random)]\n",
    "        \n",
    "        defe = [ag.payoff for ag in ags if ag.coop == False]\n",
    "        coope = [ag.payoff for ag in ags if ag.coop == True]\n",
    "        \n",
    "        if len(defe)==0 or len(coope)==0: \n",
    "            return\n",
    "       \n",
    "        avg_def = np.mean(defe) * self.w \n",
    "        avg_coop = np.mean(coope) * self.w\n",
    "        logitDef = expit(avg_def) / (expit(avg_def) + expit(avg_coop))       \n",
    "        \n",
    "        if random.random() < logitDef:\n",
    "            self.access(index).coop = False\n",
    "        else:\n",
    "            self.access(index).coop = True\n",
    "            \n",
    "        self.global_coop = sum([i.coop for i in self.arr])\n",
    "     \n",
    "         \n",
    "\n",
    "    def action_global_on(self, index):\n",
    "        \n",
    "        choosen_as_rand = self.choose_one_rand()\n",
    "        me = self.access(index)\n",
    "        \n",
    "        if me.coop == choosen_as_rand.coop:\n",
    "            return\n",
    "        \n",
    "        me_score = me.payoff * self.w \n",
    "        other_score = choosen_as_rand.payoff * self.w \n",
    "        \n",
    "        logit_other_score = expit(other_score) / (expit(other_score) + expit(me_score))       \n",
    "        \n",
    "        if random.random() < logit_other_score:\n",
    "            me.coop = choosen_as_rand.coop\n",
    "            self.global_coop = sum([i.coop for i in self.arr])\n",
    "        \n",
    "\n",
    "    def update_all_payoff(self):\n",
    "        for a in self.arr:\n",
    "            if a.coop:\n",
    "                self.access(a.number + 1).payoff += self.b\n",
    "                self.access(a.number - 1).payoff += self.b\n",
    "                a.payoff -= 2 * self.c\n",
    "            else:\n",
    "                pass\n",
    "           \n",
    "        \n",
    "    def reset_all_payoff(self):\n",
    "        for a in self.arr:\n",
    "            a.payoff = 0\n",
    "\n",
    "            \n",
    "            \n",
    "def _runModel(i, n, p, w, b, all_coop, extra_random):\n",
    "    random.seed(int(time.time() + i))\n",
    "    c = circle(n=n, p=p, w=w, b=b, all_coop=all_coop, extra_random=extra_random)\n",
    "    c.flip_agent(0)\n",
    "    \n",
    "    n_iter = 0\n",
    "    while True:\n",
    "        n_iter += 1\n",
    "        if c.global_coop == 0 or c.global_coop == c.n: \n",
    "            break\n",
    "\n",
    "        c.make_action()\n",
    "\n",
    "    return all([i.coop != all_coop  for i in c.arr]), n_iter\n",
    "\n",
    "\n",
    "\n",
    "\n",
    "\n",
    "def runModel(iteration, n, p, w, b, all_coop, extra_random):\n",
    "    nRun = iteration\n",
    "    __runModel = partial(_runModel, n=n, p=p, w=w, b=b, all_coop=all_coop, extra_random=extra_random)\n",
    "\n",
    "    with Pool(12) as p:\n",
    "          r = list(tqdm(p.imap(__runModel, range(nRun)), total=nRun))    \n",
    "     \n",
    "    final_r = [i[0] for i in r]\n",
    "    iterations = [(i[1],i[0]) for i in r]\n",
    "    \n",
    "    fix = sum(final_r)/len(final_r)\n",
    "    return fix, iterations"
   ]
  },
  {
   "cell_type": "markdown",
   "metadata": {},
   "source": [
    "# Strong vs Weak"
   ]
  },
  {
   "cell_type": "code",
   "execution_count": null,
   "metadata": {},
   "outputs": [
    {
     "name": "stderr",
     "output_type": "stream",
     "text": [
      "\n",
      "  0%|          | 0/200 [00:00<?, ?it/s]\u001b[A\n",
      "  2%|▏         | 4/200 [00:00<00:11, 16.79it/s]\u001b[A\n",
      "  5%|▌         | 10/200 [00:00<00:08, 21.13it/s]\u001b[A\n",
      " 20%|██        | 41/200 [00:00<00:05, 26.52it/s]\u001b[A\n",
      "100%|██████████| 200/200 [00:00<00:00, 234.42it/s]\u001b[A\n",
      "  0%|          | 0/200 [00:00<?, ?it/s]\u001b[A\n",
      "  0%|          | 1/200 [00:02<08:11,  2.47s/it]\u001b[A\n",
      "  7%|▋         | 14/200 [00:03<05:23,  1.74s/it]\u001b[A"
     ]
    }
   ],
   "source": [
    "res_strong = [(i, runModel(200, n=20, p=0, w=0.2, b=7, all_coop=False, extra_random=i)[0]) for i in range(5)]\n",
    "res_weak   = [(i, runModel(200, n=20, p=0, w=0.02, b=7, all_coop=False, extra_random=i)[0]) for i in range(5)]"
   ]
  },
  {
   "cell_type": "code",
   "execution_count": 13,
   "metadata": {},
   "outputs": [
    {
     "data": {
      "image/png": "[encoded data removed]",
      "text/plain": [
       "<Figure size 432x288 with 1 Axes>"
      ]
     },
     "metadata": {
      "needs_background": "light"
     },
     "output_type": "display_data"
    }
   ],
   "source": [
    "plt.plot([i for i,j in res_weak], [j for i,j in res_weak], label = \"weak\")\n",
    "plt.plot([i for i,j in res_strong], [j for i,j in res_strong], label = \"strong\")\n",
    "\n",
    "# Shrink current axis by 20%\n",
    "box = plt.gca().get_position()\n",
    "plt.gca().set_position([box.x0, box.y0, box.width * 0.8, box.height])\n",
    "plt.gca().legend(loc='center left', bbox_to_anchor=(1, 0.5))\n",
    "plt.show()\n"
   ]
  },
  {
   "cell_type": "code",
   "execution_count": 14,
   "metadata": {},
   "outputs": [
    {
     "name": "stderr",
     "output_type": "stream",
     "text": [
      "100%|██████████| 2000/2000 [00:02<00:00, 905.69it/s]\n",
      "100%|██████████| 2000/2000 [00:16<00:00, 119.39it/s]\n",
      "100%|██████████| 2000/2000 [01:05<00:00, 30.74it/s]\n",
      "100%|██████████| 2000/2000 [03:04<00:00, 10.81it/s]\n",
      "100%|██████████| 2000/2000 [06:00<00:00,  5.55it/s]\n",
      "100%|██████████| 2000/2000 [00:02<00:00, 731.30it/s]\n",
      "100%|██████████| 2000/2000 [00:49<00:00, 40.35it/s]\n",
      "100%|██████████| 2000/2000 [04:14<00:00,  7.85it/s]\n",
      "100%|██████████| 2000/2000 [13:37<00:00,  2.45it/s]\n",
      "100%|██████████| 2000/2000 [27:42<00:00,  1.20it/s]\n"
     ]
    }
   ],
   "source": [
    "res_strong = [(i, runModel(2000, n=20, p=0, w=0.2, b=7, all_coop=False, extra_random=i)[0]) for i in range(5)]\n",
    "res_weak   = [(i, runModel(2000, n=20, p=0, w=0.02, b=7, all_coop=False, extra_random=i)[0]) for i in range(5)]"
   ]
  },
  {
   "cell_type": "code",
   "execution_count": 18,
   "metadata": {},
   "outputs": [
    {
     "data": {
      "image/png": "[encoded data removed]",
      "text/plain": [
       "<Figure size 432x288 with 1 Axes>"
      ]
     },
     "metadata": {
      "needs_background": "light"
     },
     "output_type": "display_data"
    }
   ],
   "source": [
    "plt.plot([i for i,j in res_weak], [j for i,j in res_weak], label = \"weak\")\n",
    "plt.plot([i for i,j in res_strong], [j for i,j in res_strong], label = \"strong\")\n",
    "\n",
    "\n",
    "# Shrink current axis by 20%\n",
    "box = plt.gca().get_position()\n",
    "plt.gca().set_position([box.x0, box.y0, box.width * 0.8, box.height])\n",
    "plt.gca().legend(loc='center left', bbox_to_anchor=(1, 0.5))\n",
    "plt.show()"
   ]
  },
  {
   "cell_type": "code",
   "execution_count": 20,
   "metadata": {},
   "outputs": [],
   "source": [
    "with open('weak(N20i2000b7w0.2).txt', 'w') as outfile:  \n",
    "    json.dump(res_strong, outfile)\n",
    "    \n",
    "with open('strong(N20i2000b7w0.2).txt', 'w') as outfile:  \n",
    "    json.dump(res_weak, outfile)"
   ]
  },
  {
   "cell_type": "code",
   "execution_count": null,
   "metadata": {},
   "outputs": [],
   "source": []
  },
  {
   "cell_type": "code",
   "execution_count": null,
   "metadata": {},
   "outputs": [],
   "source": [
    "# Try "
   ]
  },
  {
   "cell_type": "code",
   "execution_count": null,
   "metadata": {},
   "outputs": [],
   "source": []
  },
  {
   "cell_type": "code",
   "execution_count": null,
   "metadata": {},
   "outputs": [],
   "source": []
  },
  {
   "cell_type": "code",
   "execution_count": null,
   "metadata": {},
   "outputs": [],
   "source": []
  },
  {
   "cell_type": "code",
   "execution_count": null,
   "metadata": {},
   "outputs": [],
   "source": []
  },
  {
   "cell_type": "code",
   "execution_count": null,
   "metadata": {},
   "outputs": [],
   "source": []
  },
  {
   "cell_type": "code",
   "execution_count": 6,
   "metadata": {},
   "outputs": [
    {
     "name": "stderr",
     "output_type": "stream",
     "text": [
      "100%|██████████| 100/100 [00:00<00:00, 244.84it/s]\n"
     ]
    },
    {
     "name": "stdout",
     "output_type": "stream",
     "text": [
      "0.09\n"
     ]
    },
    {
     "data": {
      "text/plain": [
       "11582"
      ]
     },
     "execution_count": 6,
     "metadata": {},
     "output_type": "execute_result"
    }
   ],
   "source": [
    "fix, iteration = runModel(100, n=30, p=0, w=0.01, b=5, all_coop=False, extra_random=0)\n",
    "print(fix)\n",
    "max([i for i,j in iteration])"
   ]
  },
  {
   "cell_type": "code",
   "execution_count": 7,
   "metadata": {},
   "outputs": [
    {
     "name": "stderr",
     "output_type": "stream",
     "text": [
      "100%|██████████| 100/100 [00:38<00:00,  2.59it/s]"
     ]
    },
    {
     "name": "stdout",
     "output_type": "stream",
     "text": [
      "0.21\n"
     ]
    },
    {
     "name": "stderr",
     "output_type": "stream",
     "text": [
      "\n"
     ]
    },
    {
     "data": {
      "text/plain": [
       "177694"
      ]
     },
     "execution_count": 7,
     "metadata": {},
     "output_type": "execute_result"
    }
   ],
   "source": [
    "fix, iteration = runModel(100, n=30, p=0, w=0.01, b=5, all_coop=False, extra_random=1)\n",
    "print(fix)\n",
    "max([i for i,j in iteration])"
   ]
  },
  {
   "cell_type": "code",
   "execution_count": 8,
   "metadata": {},
   "outputs": [
    {
     "name": "stderr",
     "output_type": "stream",
     "text": [
      "100%|██████████| 100/100 [07:58<00:00,  4.79s/it]"
     ]
    },
    {
     "name": "stdout",
     "output_type": "stream",
     "text": [
      "0.22\n"
     ]
    },
    {
     "name": "stderr",
     "output_type": "stream",
     "text": [
      "\n"
     ]
    },
    {
     "data": {
      "text/plain": [
       "26889750"
      ]
     },
     "execution_count": 8,
     "metadata": {},
     "output_type": "execute_result"
    }
   ],
   "source": [
    "fix, iteration = runModel(100, n=30, p=0, w=0.01, b=5, all_coop=False, extra_random=2)\n",
    "print(fix)\n",
    "sum([i for i,j in iteration])"
   ]
  },
  {
   "cell_type": "code",
   "execution_count": null,
   "metadata": {},
   "outputs": [],
   "source": []
  },
  {
   "cell_type": "code",
   "execution_count": null,
   "metadata": {},
   "outputs": [],
   "source": []
  },
  {
   "cell_type": "code",
   "execution_count": null,
   "metadata": {},
   "outputs": [],
   "source": []
  },
  {
   "cell_type": "code",
   "execution_count": null,
   "metadata": {},
   "outputs": [],
   "source": []
  },
  {
   "cell_type": "code",
   "execution_count": null,
   "metadata": {},
   "outputs": [],
   "source": []
  },
  {
   "cell_type": "code",
   "execution_count": 8,
   "metadata": {},
   "outputs": [
    {
     "name": "stderr",
     "output_type": "stream",
     "text": [
      "100%|██████████| 1000/1000 [00:00<00:00, 1578.02it/s]\n"
     ]
    },
    {
     "data": {
      "text/plain": [
       "0.013"
      ]
     },
     "execution_count": 8,
     "metadata": {},
     "output_type": "execute_result"
    }
   ],
   "source": [
    "fix, iteration =runModel(1000, n=30, p=0, w=1, b=5, all_coop=False)"
   ]
  },
  {
   "cell_type": "markdown",
   "metadata": {},
   "source": [
    "# Find w"
   ]
  },
  {
   "cell_type": "code",
   "execution_count": 150,
   "metadata": {},
   "outputs": [
    {
     "name": "stderr",
     "output_type": "stream",
     "text": [
      "100%|██████████| 1000/1000 [00:00<00:00, 2235.31it/s]\n",
      "100%|██████████| 1000/1000 [00:00<00:00, 2146.52it/s]\n",
      "100%|██████████| 1000/1000 [00:00<00:00, 2252.44it/s]\n",
      "100%|██████████| 1000/1000 [00:00<00:00, 2357.92it/s]\n",
      "100%|██████████| 1000/1000 [00:00<00:00, 2470.02it/s]\n",
      "100%|██████████| 1000/1000 [00:00<00:00, 2293.43it/s]\n",
      "100%|██████████| 1000/1000 [00:00<00:00, 2255.62it/s]\n",
      "100%|██████████| 1000/1000 [00:00<00:00, 2361.31it/s]\n",
      "100%|██████████| 1000/1000 [00:00<00:00, 2720.65it/s]\n",
      "100%|██████████| 1000/1000 [00:00<00:00, 7246.38it/s]\n"
     ]
    },
    {
     "data": {
      "image/png": "[encoded data removed]",
      "text/plain": [
       "<Figure size 432x288 with 1 Axes>"
      ]
     },
     "metadata": {
      "needs_background": "light"
     },
     "output_type": "display_data"
    }
   ],
   "source": [
    "ws = np.logspace(-6, 0, 10)\n",
    "res_w = list()\n",
    "for w in ws:\n",
    "    res_w.append(runModel(1000, n = 10, p=0, w=w, b=5, all_coop=False))\n",
    "    \n",
    "plt.plot(ws, res_w)\n",
    "plt.xscale(\"log\")"
   ]
  },
  {
   "cell_type": "code",
   "execution_count": 152,
   "metadata": {},
   "outputs": [
    {
     "name": "stderr",
     "output_type": "stream",
     "text": [
      "100%|██████████| 1000/1000 [00:00<00:00, 2110.51it/s]\n",
      "100%|██████████| 1000/1000 [00:00<00:00, 2061.46it/s]\n",
      "100%|██████████| 1000/1000 [00:00<00:00, 2181.87it/s]\n",
      "100%|██████████| 1000/1000 [00:00<00:00, 2052.51it/s]\n",
      "100%|██████████| 1000/1000 [00:00<00:00, 2220.31it/s]\n",
      "100%|██████████| 1000/1000 [00:00<00:00, 2114.13it/s]\n",
      "100%|██████████| 1000/1000 [00:00<00:00, 2114.97it/s]\n",
      "100%|██████████| 1000/1000 [00:00<00:00, 1982.68it/s]\n",
      "100%|██████████| 1000/1000 [00:00<00:00, 1664.47it/s]\n",
      "100%|██████████| 1000/1000 [00:00<00:00, 2223.86it/s]\n"
     ]
    },
    {
     "data": {
      "image/png": "[encoded data removed]",
      "text/plain": [
       "<Figure size 432x288 with 1 Axes>"
      ]
     },
     "metadata": {
      "needs_background": "light"
     },
     "output_type": "display_data"
    }
   ],
   "source": [
    "ws = np.logspace(-6, 0, 10)\n",
    "res_w = list()\n",
    "for w in ws:\n",
    "    res_w.append(runModel(1000, n = 10, p=0, w=w, b=5, all_coop=True))\n",
    "    \n",
    "plt.plot(ws, res_w)\n",
    "plt.xscale(\"log\")"
   ]
  },
  {
   "cell_type": "markdown",
   "metadata": {},
   "source": [
    "# How COOP go with p"
   ]
  },
  {
   "cell_type": "code",
   "execution_count": null,
   "metadata": {},
   "outputs": [],
   "source": [
    "ps = np.arange(0, 1, 0.1)\n",
    "coops = [runModel(5000, n = 30, p=p, w=0.01, b=5, all_coop=False) for p in ps]"
   ]
  },
  {
   "cell_type": "code",
   "execution_count": 23,
   "metadata": {},
   "outputs": [
    {
     "data": {
      "text/plain": [
       "[<matplotlib.lines.Line2D at 0x7fc926687240>]"
      ]
     },
     "execution_count": 23,
     "metadata": {},
     "output_type": "execute_result"
    },
    {
     "data": {
      "image/png": "[encoded data removed]",
      "text/plain": [
       "<Figure size 432x288 with 1 Axes>"
      ]
     },
     "metadata": {
      "needs_background": "light"
     },
     "output_type": "display_data"
    }
   ],
   "source": [
    "plt.plot(ps, coops)"
   ]
  },
  {
   "cell_type": "code",
   "execution_count": 7,
   "metadata": {},
   "outputs": [
    {
     "name": "stderr",
     "output_type": "stream",
     "text": [
      "100%|██████████| 5000/5000 [00:21<00:00, 229.46it/s]\n",
      "100%|██████████| 5000/5000 [00:22<00:00, 220.18it/s]\n",
      "100%|██████████| 5000/5000 [00:22<00:00, 220.99it/s]\n",
      "100%|██████████| 5000/5000 [00:22<00:00, 218.76it/s]\n",
      "100%|██████████| 5000/5000 [00:23<00:00, 211.31it/s]\n",
      "100%|██████████| 5000/5000 [00:22<00:00, 220.93it/s]\n",
      "100%|██████████| 5000/5000 [00:19<00:00, 250.23it/s]\n",
      "100%|██████████| 5000/5000 [00:17<00:00, 284.96it/s]\n",
      "100%|██████████| 5000/5000 [00:14<00:00, 335.40it/s]\n",
      "100%|██████████| 5000/5000 [00:12<00:00, 400.14it/s]\n"
     ]
    }
   ],
   "source": [
    "ps = np.arange(0, 1, 0.1)\n",
    "coops = [runModel(5000, n = 30, p=p, w=0.01, b=5, all_coop=True) for p in ps]"
   ]
  },
  {
   "cell_type": "code",
   "execution_count": 8,
   "metadata": {},
   "outputs": [
    {
     "data": {
      "text/plain": [
       "[<matplotlib.lines.Line2D at 0x7f5b78e6a4a8>]"
      ]
     },
     "execution_count": 8,
     "metadata": {},
     "output_type": "execute_result"
    },
    {
     "data": {
      "image/png": "[encoded data removed]",
      "text/plain": [
       "<Figure size 432x288 with 1 Axes>"
      ]
     },
     "metadata": {
      "needs_background": "light"
     },
     "output_type": "display_data"
    }
   ],
   "source": [
    "plt.plot(ps, coops)"
   ]
  },
  {
   "cell_type": "markdown",
   "metadata": {},
   "source": [
    "# Intersection"
   ]
  },
  {
   "cell_type": "code",
   "execution_count": 65,
   "metadata": {},
   "outputs": [],
   "source": [
    "def coopBigger(b, p):\n",
    "    fixDef =  runModel(500, n=30, p=p, w=0.1, b=b, all_coop=True)[0]\n",
    "    fixCoop = runModel(500, n=30, p=p, w=0.1, b=b, all_coop=False)[0]\n",
    "    \n",
    "    return fixCoop>fixDef"
   ]
  },
  {
   "cell_type": "code",
   "execution_count": 66,
   "metadata": {},
   "outputs": [],
   "source": [
    "def runBinary(p, startingB):\n",
    "    in_left = False\n",
    "    \n",
    "    b = startingB\n",
    "    while True:\n",
    "        if coopBigger(b, p):\n",
    "            break\n",
    "        in_left = True\n",
    "        b = b*2\n",
    "       \n",
    "        if b>20: \n",
    "            return np.nan\n",
    "            print(\"b too big\")\n",
    "    \n",
    "    \n",
    "    if not in_left: \n",
    "        print(\"b must be in left part\")\n",
    "        return np.nan\n",
    "    \n",
    "    a = b/2\n",
    "    \n",
    "    while (b-a > 0.1):\n",
    "        print((a,b))\n",
    "        m = (b+a)/2\n",
    "        if coopBigger(m, p):\n",
    "            b = m\n",
    "        else:\n",
    "            a = m\n",
    "    \n",
    "    print((f\"final res {m} with {p}\"))       \n",
    "    return m"
   ]
  },
  {
   "cell_type": "code",
   "execution_count": 68,
   "metadata": {},
   "outputs": [
    {
     "data": {
      "text/plain": [
       "19"
      ]
     },
     "execution_count": 68,
     "metadata": {},
     "output_type": "execute_result"
    }
   ],
   "source": [
    "ps = list(np.arange(0, 0.3, 0.02))\n",
    "ps = ps + list(np.arange(0.3, 0.5, 0.05))\n",
    "len(ps)"
   ]
  },
  {
   "cell_type": "code",
   "execution_count": 69,
   "metadata": {},
   "outputs": [
    {
     "name": "stderr",
     "output_type": "stream",
     "text": [
      "100%|██████████| 500/500 [00:02<00:00, 195.60it/s]\n",
      "100%|██████████| 500/500 [00:01<00:00, 346.49it/s]\n",
      "100%|██████████| 500/500 [00:02<00:00, 216.55it/s]\n",
      "100%|██████████| 500/500 [00:01<00:00, 257.73it/s]"
     ]
    },
    {
     "name": "stdout",
     "output_type": "stream",
     "text": [
      "(3.0, 6)\n"
     ]
    },
    {
     "name": "stderr",
     "output_type": "stream",
     "text": [
      "\n",
      "100%|██████████| 500/500 [00:02<00:00, 182.17it/s]\n",
      "100%|██████████| 500/500 [00:01<00:00, 285.62it/s]"
     ]
    },
    {
     "name": "stdout",
     "output_type": "stream",
     "text": [
      "(4.5, 6)\n"
     ]
    },
    {
     "name": "stderr",
     "output_type": "stream",
     "text": [
      "\n",
      "100%|██████████| 500/500 [00:02<00:00, 222.01it/s]\n",
      "100%|██████████| 500/500 [00:02<00:00, 243.79it/s]\n"
     ]
    },
    {
     "name": "stdout",
     "output_type": "stream",
     "text": [
      "(4.5, 5.25)\n"
     ]
    },
    {
     "name": "stderr",
     "output_type": "stream",
     "text": [
      "100%|██████████| 500/500 [00:02<00:00, 209.44it/s]\n",
      "100%|██████████| 500/500 [00:02<00:00, 246.92it/s]\n"
     ]
    },
    {
     "name": "stdout",
     "output_type": "stream",
     "text": [
      "(4.5, 4.875)\n"
     ]
    },
    {
     "name": "stderr",
     "output_type": "stream",
     "text": [
      "100%|██████████| 500/500 [00:02<00:00, 205.65it/s]\n",
      "100%|██████████| 500/500 [00:01<00:00, 265.93it/s]"
     ]
    },
    {
     "name": "stdout",
     "output_type": "stream",
     "text": [
      "(4.5, 4.6875)\n"
     ]
    },
    {
     "name": "stderr",
     "output_type": "stream",
     "text": [
      "\n",
      "100%|██████████| 500/500 [00:02<00:00, 187.25it/s]\n",
      "100%|██████████| 500/500 [00:01<00:00, 283.94it/s]"
     ]
    },
    {
     "name": "stdout",
     "output_type": "stream",
     "text": [
      "final res 4.59375 with 0.0\n"
     ]
    },
    {
     "name": "stderr",
     "output_type": "stream",
     "text": [
      "\n",
      "100%|██████████| 500/500 [00:02<00:00, 206.26it/s]\n",
      "100%|██████████| 500/500 [00:01<00:00, 391.54it/s]\n",
      "100%|██████████| 500/500 [00:01<00:00, 285.29it/s]\n",
      "100%|██████████| 500/500 [00:01<00:00, 293.03it/s]"
     ]
    },
    {
     "name": "stdout",
     "output_type": "stream",
     "text": [
      "(3.0, 6)\n"
     ]
    },
    {
     "name": "stderr",
     "output_type": "stream",
     "text": [
      "\n",
      "100%|██████████| 500/500 [00:02<00:00, 225.74it/s]\n",
      "100%|██████████| 500/500 [00:01<00:00, 347.79it/s]\n"
     ]
    },
    {
     "name": "stdout",
     "output_type": "stream",
     "text": [
      "(4.5, 6)\n"
     ]
    },
    {
     "name": "stderr",
     "output_type": "stream",
     "text": [
      "100%|██████████| 500/500 [00:02<00:00, 201.33it/s]\n",
      "100%|██████████| 500/500 [00:01<00:00, 369.08it/s]"
     ]
    },
    {
     "name": "stdout",
     "output_type": "stream",
     "text": [
      "(5.25, 6)\n"
     ]
    },
    {
     "name": "stderr",
     "output_type": "stream",
     "text": [
      "\n",
      "100%|██████████| 500/500 [00:02<00:00, 222.02it/s]\n",
      "100%|██████████| 500/500 [00:01<00:00, 316.55it/s]"
     ]
    },
    {
     "name": "stdout",
     "output_type": "stream",
     "text": [
      "(5.25, 5.625)\n"
     ]
    },
    {
     "name": "stderr",
     "output_type": "stream",
     "text": [
      "\n",
      "100%|██████████| 500/500 [00:02<00:00, 184.33it/s]\n",
      "100%|██████████| 500/500 [00:01<00:00, 384.00it/s]\n"
     ]
    },
    {
     "name": "stdout",
     "output_type": "stream",
     "text": [
      "(5.4375, 5.625)\n"
     ]
    },
    {
     "name": "stderr",
     "output_type": "stream",
     "text": [
      "100%|██████████| 500/500 [00:02<00:00, 175.78it/s]\n",
      "100%|██████████| 500/500 [00:01<00:00, 321.80it/s]"
     ]
    },
    {
     "name": "stdout",
     "output_type": "stream",
     "text": [
      "final res 5.53125 with 0.02\n"
     ]
    },
    {
     "name": "stderr",
     "output_type": "stream",
     "text": [
      "\n",
      "100%|██████████| 500/500 [00:02<00:00, 207.83it/s]\n",
      "100%|██████████| 500/500 [00:01<00:00, 353.48it/s]\n",
      "100%|██████████| 500/500 [00:02<00:00, 215.05it/s]\n",
      "100%|██████████| 500/500 [00:01<00:00, 328.39it/s]\n",
      "100%|██████████| 500/500 [00:02<00:00, 236.29it/s]\n",
      "100%|██████████| 500/500 [00:01<00:00, 381.40it/s]"
     ]
    },
    {
     "name": "stdout",
     "output_type": "stream",
     "text": [
      "(6.0, 12)\n"
     ]
    },
    {
     "name": "stderr",
     "output_type": "stream",
     "text": [
      "\n",
      "100%|██████████| 500/500 [00:02<00:00, 210.33it/s]\n",
      "100%|██████████| 500/500 [00:01<00:00, 333.17it/s]\n"
     ]
    },
    {
     "name": "stdout",
     "output_type": "stream",
     "text": [
      "(6.0, 9.0)\n"
     ]
    },
    {
     "name": "stderr",
     "output_type": "stream",
     "text": [
      "100%|██████████| 500/500 [00:01<00:00, 255.96it/s]\n",
      "100%|██████████| 500/500 [00:01<00:00, 362.19it/s]"
     ]
    },
    {
     "name": "stdout",
     "output_type": "stream",
     "text": [
      "(6.0, 7.5)\n"
     ]
    },
    {
     "name": "stderr",
     "output_type": "stream",
     "text": [
      "\n",
      "100%|██████████| 500/500 [00:02<00:00, 221.96it/s]\n",
      "100%|██████████| 500/500 [00:01<00:00, 340.85it/s]"
     ]
    },
    {
     "name": "stdout",
     "output_type": "stream",
     "text": [
      "(6.0, 6.75)\n"
     ]
    },
    {
     "name": "stderr",
     "output_type": "stream",
     "text": [
      "\n",
      "100%|██████████| 500/500 [00:02<00:00, 200.50it/s]\n",
      "100%|██████████| 500/500 [00:01<00:00, 311.52it/s]\n"
     ]
    },
    {
     "name": "stdout",
     "output_type": "stream",
     "text": [
      "(6.0, 6.375)\n"
     ]
    },
    {
     "name": "stderr",
     "output_type": "stream",
     "text": [
      "100%|██████████| 500/500 [00:02<00:00, 207.93it/s]\n",
      "100%|██████████| 500/500 [00:01<00:00, 291.49it/s]"
     ]
    },
    {
     "name": "stdout",
     "output_type": "stream",
     "text": [
      "(6.0, 6.1875)\n"
     ]
    },
    {
     "name": "stderr",
     "output_type": "stream",
     "text": [
      "\n",
      "100%|██████████| 500/500 [00:02<00:00, 227.59it/s]\n",
      "100%|██████████| 500/500 [00:01<00:00, 295.60it/s]"
     ]
    },
    {
     "name": "stdout",
     "output_type": "stream",
     "text": [
      "final res 6.09375 with 0.04\n"
     ]
    },
    {
     "name": "stderr",
     "output_type": "stream",
     "text": [
      "\n",
      "100%|██████████| 500/500 [00:02<00:00, 204.50it/s]\n",
      "100%|██████████| 500/500 [00:01<00:00, 410.82it/s]\n",
      "100%|██████████| 500/500 [00:02<00:00, 214.79it/s]\n",
      "100%|██████████| 500/500 [00:01<00:00, 357.39it/s]\n",
      "100%|██████████| 500/500 [00:01<00:00, 270.94it/s]\n",
      "100%|██████████| 500/500 [00:01<00:00, 360.61it/s]"
     ]
    },
    {
     "name": "stdout",
     "output_type": "stream",
     "text": [
      "(6.0, 12)\n"
     ]
    },
    {
     "name": "stderr",
     "output_type": "stream",
     "text": [
      "\n",
      "100%|██████████| 500/500 [00:02<00:00, 227.98it/s]\n",
      "100%|██████████| 500/500 [00:01<00:00, 327.55it/s]\n"
     ]
    },
    {
     "name": "stdout",
     "output_type": "stream",
     "text": [
      "(6.0, 9.0)\n"
     ]
    },
    {
     "name": "stderr",
     "output_type": "stream",
     "text": [
      "100%|██████████| 500/500 [00:02<00:00, 242.30it/s]\n",
      "100%|██████████| 500/500 [00:01<00:00, 363.58it/s]"
     ]
    },
    {
     "name": "stdout",
     "output_type": "stream",
     "text": [
      "(6.0, 7.5)\n"
     ]
    },
    {
     "name": "stderr",
     "output_type": "stream",
     "text": [
      "\n",
      "100%|██████████| 500/500 [00:02<00:00, 200.04it/s]\n",
      "100%|██████████| 500/500 [00:01<00:00, 332.96it/s]\n"
     ]
    },
    {
     "name": "stdout",
     "output_type": "stream",
     "text": [
      "(6.75, 7.5)\n"
     ]
    },
    {
     "name": "stderr",
     "output_type": "stream",
     "text": [
      "100%|██████████| 500/500 [00:02<00:00, 217.41it/s]\n",
      "100%|██████████| 500/500 [00:01<00:00, 343.17it/s]"
     ]
    },
    {
     "name": "stdout",
     "output_type": "stream",
     "text": [
      "(7.125, 7.5)\n"
     ]
    },
    {
     "name": "stderr",
     "output_type": "stream",
     "text": [
      "\n",
      "100%|██████████| 500/500 [00:02<00:00, 218.43it/s]\n",
      "100%|██████████| 500/500 [00:01<00:00, 327.53it/s]"
     ]
    },
    {
     "name": "stdout",
     "output_type": "stream",
     "text": [
      "(7.125, 7.3125)\n"
     ]
    },
    {
     "name": "stderr",
     "output_type": "stream",
     "text": [
      "\n",
      "100%|██████████| 500/500 [00:02<00:00, 210.26it/s]\n",
      "100%|██████████| 500/500 [00:01<00:00, 360.94it/s]"
     ]
    },
    {
     "name": "stdout",
     "output_type": "stream",
     "text": [
      "final res 7.21875 with 0.06\n"
     ]
    },
    {
     "name": "stderr",
     "output_type": "stream",
     "text": [
      "\n",
      "100%|██████████| 500/500 [00:02<00:00, 215.00it/s]\n",
      "100%|██████████| 500/500 [00:01<00:00, 363.50it/s]\n",
      "100%|██████████| 500/500 [00:02<00:00, 222.37it/s]\n",
      "100%|██████████| 500/500 [00:01<00:00, 426.82it/s]\n",
      "100%|██████████| 500/500 [00:01<00:00, 266.08it/s]\n",
      "100%|██████████| 500/500 [00:01<00:00, 317.47it/s]"
     ]
    },
    {
     "name": "stdout",
     "output_type": "stream",
     "text": [
      "(6.0, 12)\n"
     ]
    },
    {
     "name": "stderr",
     "output_type": "stream",
     "text": [
      "\n",
      "100%|██████████| 500/500 [00:02<00:00, 242.78it/s]\n",
      "100%|██████████| 500/500 [00:01<00:00, 321.60it/s]\n"
     ]
    },
    {
     "name": "stdout",
     "output_type": "stream",
     "text": [
      "(6.0, 9.0)\n"
     ]
    },
    {
     "name": "stderr",
     "output_type": "stream",
     "text": [
      "100%|██████████| 500/500 [00:01<00:00, 257.99it/s]\n",
      "100%|██████████| 500/500 [00:01<00:00, 315.72it/s]"
     ]
    },
    {
     "name": "stdout",
     "output_type": "stream",
     "text": [
      "(6.0, 7.5)\n"
     ]
    },
    {
     "name": "stderr",
     "output_type": "stream",
     "text": [
      "\n",
      "100%|██████████| 500/500 [00:02<00:00, 215.37it/s]\n",
      "100%|██████████| 500/500 [00:01<00:00, 322.18it/s]"
     ]
    },
    {
     "name": "stdout",
     "output_type": "stream",
     "text": [
      "(6.75, 7.5)\n"
     ]
    },
    {
     "name": "stderr",
     "output_type": "stream",
     "text": [
      "\n",
      "100%|██████████| 500/500 [00:02<00:00, 233.79it/s]\n",
      "100%|██████████| 500/500 [00:01<00:00, 280.21it/s]\n"
     ]
    },
    {
     "name": "stdout",
     "output_type": "stream",
     "text": [
      "(7.125, 7.5)\n"
     ]
    },
    {
     "name": "stderr",
     "output_type": "stream",
     "text": [
      "100%|██████████| 500/500 [00:02<00:00, 225.96it/s]\n",
      "100%|██████████| 500/500 [00:01<00:00, 365.11it/s]"
     ]
    },
    {
     "name": "stdout",
     "output_type": "stream",
     "text": [
      "(7.3125, 7.5)\n"
     ]
    },
    {
     "name": "stderr",
     "output_type": "stream",
     "text": [
      "\n",
      "100%|██████████| 500/500 [00:02<00:00, 216.81it/s]\n",
      "100%|██████████| 500/500 [00:01<00:00, 285.85it/s]"
     ]
    },
    {
     "name": "stdout",
     "output_type": "stream",
     "text": [
      "final res 7.40625 with 0.08\n"
     ]
    },
    {
     "name": "stderr",
     "output_type": "stream",
     "text": [
      "\n",
      "100%|██████████| 500/500 [00:02<00:00, 202.11it/s]\n",
      "100%|██████████| 500/500 [00:01<00:00, 276.08it/s]\n",
      "100%|██████████| 500/500 [00:02<00:00, 194.62it/s]\n",
      "100%|██████████| 500/500 [00:01<00:00, 360.32it/s]\n",
      "100%|██████████| 500/500 [00:01<00:00, 258.73it/s]\n",
      "100%|██████████| 500/500 [00:01<00:00, 106.66it/s]"
     ]
    },
    {
     "name": "stdout",
     "output_type": "stream",
     "text": [
      "(6.0, 12)\n"
     ]
    },
    {
     "name": "stderr",
     "output_type": "stream",
     "text": [
      "\n",
      "100%|██████████| 500/500 [00:02<00:00, 238.09it/s]\n",
      "100%|██████████| 500/500 [00:01<00:00, 310.72it/s]"
     ]
    },
    {
     "name": "stdout",
     "output_type": "stream",
     "text": [
      "(6.0, 9.0)\n"
     ]
    },
    {
     "name": "stderr",
     "output_type": "stream",
     "text": [
      "\n",
      "100%|██████████| 500/500 [00:02<00:00, 220.38it/s]\n",
      "100%|██████████| 500/500 [00:01<00:00, 393.61it/s]"
     ]
    },
    {
     "name": "stdout",
     "output_type": "stream",
     "text": [
      "(7.5, 9.0)\n"
     ]
    },
    {
     "name": "stderr",
     "output_type": "stream",
     "text": [
      "\n",
      "100%|██████████| 500/500 [00:02<00:00, 220.92it/s]\n",
      "100%|██████████| 500/500 [00:01<00:00, 416.26it/s]"
     ]
    },
    {
     "name": "stdout",
     "output_type": "stream",
     "text": [
      "(8.25, 9.0)\n"
     ]
    },
    {
     "name": "stderr",
     "output_type": "stream",
     "text": [
      "\n",
      "100%|██████████| 500/500 [00:02<00:00, 215.28it/s]\n",
      "100%|██████████| 500/500 [00:01<00:00, 352.02it/s]"
     ]
    },
    {
     "name": "stdout",
     "output_type": "stream",
     "text": [
      "(8.625, 9.0)\n"
     ]
    },
    {
     "name": "stderr",
     "output_type": "stream",
     "text": [
      "\n",
      "100%|██████████| 500/500 [00:02<00:00, 205.01it/s]\n",
      "100%|██████████| 500/500 [00:01<00:00, 366.63it/s]"
     ]
    },
    {
     "name": "stdout",
     "output_type": "stream",
     "text": [
      "(8.625, 8.8125)\n"
     ]
    },
    {
     "name": "stderr",
     "output_type": "stream",
     "text": [
      "\n",
      "100%|██████████| 500/500 [00:02<00:00, 212.84it/s]\n",
      "100%|██████████| 500/500 [00:01<00:00, 345.59it/s]"
     ]
    },
    {
     "name": "stdout",
     "output_type": "stream",
     "text": [
      "final res 8.71875 with 0.1\n"
     ]
    },
    {
     "name": "stderr",
     "output_type": "stream",
     "text": [
      "\n",
      "100%|██████████| 500/500 [00:02<00:00, 199.45it/s]\n",
      "100%|██████████| 500/500 [00:01<00:00, 342.34it/s]\n",
      "100%|██████████| 500/500 [00:01<00:00, 250.02it/s]\n",
      "100%|██████████| 500/500 [00:01<00:00, 324.93it/s]\n",
      "100%|██████████| 500/500 [00:02<00:00, 221.60it/s]\n",
      "100%|██████████| 500/500 [00:01<00:00, 289.14it/s]\n"
     ]
    },
    {
     "name": "stdout",
     "output_type": "stream",
     "text": [
      "(6.0, 12)\n"
     ]
    },
    {
     "name": "stderr",
     "output_type": "stream",
     "text": [
      "100%|██████████| 500/500 [00:02<00:00, 213.09it/s]\n",
      "100%|██████████| 500/500 [00:01<00:00, 365.68it/s]"
     ]
    },
    {
     "name": "stdout",
     "output_type": "stream",
     "text": [
      "(9.0, 12)\n"
     ]
    },
    {
     "name": "stderr",
     "output_type": "stream",
     "text": [
      "\n",
      "100%|██████████| 500/500 [00:02<00:00, 232.22it/s]\n",
      "100%|██████████| 500/500 [00:01<00:00, 317.73it/s]"
     ]
    },
    {
     "name": "stdout",
     "output_type": "stream",
     "text": [
      "(10.5, 12)\n"
     ]
    },
    {
     "name": "stderr",
     "output_type": "stream",
     "text": [
      "\n",
      "100%|██████████| 500/500 [00:02<00:00, 219.66it/s]\n",
      "100%|██████████| 500/500 [00:01<00:00, 327.20it/s]"
     ]
    },
    {
     "name": "stdout",
     "output_type": "stream",
     "text": [
      "(10.5, 11.25)\n"
     ]
    },
    {
     "name": "stderr",
     "output_type": "stream",
     "text": [
      "\n",
      "100%|██████████| 500/500 [00:02<00:00, 225.28it/s]\n",
      "100%|██████████| 500/500 [00:01<00:00, 323.46it/s]\n"
     ]
    },
    {
     "name": "stdout",
     "output_type": "stream",
     "text": [
      "(10.5, 10.875)\n"
     ]
    },
    {
     "name": "stderr",
     "output_type": "stream",
     "text": [
      "100%|██████████| 500/500 [00:02<00:00, 243.32it/s]\n",
      "100%|██████████| 500/500 [00:01<00:00, 376.10it/s]"
     ]
    },
    {
     "name": "stdout",
     "output_type": "stream",
     "text": [
      "(10.5, 10.6875)\n"
     ]
    },
    {
     "name": "stderr",
     "output_type": "stream",
     "text": [
      "\n",
      "100%|██████████| 500/500 [00:02<00:00, 228.57it/s]\n",
      "100%|██████████| 500/500 [00:01<00:00, 339.67it/s]"
     ]
    },
    {
     "name": "stdout",
     "output_type": "stream",
     "text": [
      "final res 10.59375 with 0.12\n"
     ]
    },
    {
     "name": "stderr",
     "output_type": "stream",
     "text": [
      "\n",
      "100%|██████████| 500/500 [00:02<00:00, 210.57it/s]\n",
      "100%|██████████| 500/500 [00:01<00:00, 400.06it/s]\n",
      "100%|██████████| 500/500 [00:02<00:00, 229.53it/s]\n",
      "100%|██████████| 500/500 [00:01<00:00, 337.06it/s]\n",
      "100%|██████████| 500/500 [00:01<00:00, 270.93it/s]\n",
      "100%|██████████| 500/500 [00:01<00:00, 341.27it/s]"
     ]
    },
    {
     "name": "stdout",
     "output_type": "stream",
     "text": [
      "(6.0, 12)\n"
     ]
    },
    {
     "name": "stderr",
     "output_type": "stream",
     "text": [
      "\n",
      "100%|██████████| 500/500 [00:02<00:00, 226.05it/s]\n",
      "100%|██████████| 500/500 [00:01<00:00, 283.13it/s]"
     ]
    },
    {
     "name": "stdout",
     "output_type": "stream",
     "text": [
      "(6.0, 9.0)\n"
     ]
    },
    {
     "name": "stderr",
     "output_type": "stream",
     "text": [
      "\n",
      "100%|██████████| 500/500 [00:01<00:00, 279.38it/s]\n",
      "100%|██████████| 500/500 [00:01<00:00, 359.40it/s]\n"
     ]
    },
    {
     "name": "stdout",
     "output_type": "stream",
     "text": [
      "(7.5, 9.0)\n"
     ]
    },
    {
     "name": "stderr",
     "output_type": "stream",
     "text": [
      "100%|██████████| 500/500 [00:02<00:00, 225.41it/s]\n",
      "100%|██████████| 500/500 [00:01<00:00, 365.16it/s]\n"
     ]
    },
    {
     "name": "stdout",
     "output_type": "stream",
     "text": [
      "(8.25, 9.0)\n"
     ]
    },
    {
     "name": "stderr",
     "output_type": "stream",
     "text": [
      "100%|██████████| 500/500 [00:02<00:00, 224.94it/s]\n",
      "100%|██████████| 500/500 [00:01<00:00, 307.38it/s]\n"
     ]
    },
    {
     "name": "stdout",
     "output_type": "stream",
     "text": [
      "(8.625, 9.0)\n"
     ]
    },
    {
     "name": "stderr",
     "output_type": "stream",
     "text": [
      "100%|██████████| 500/500 [00:02<00:00, 203.45it/s]\n",
      "100%|██████████| 500/500 [00:01<00:00, 337.26it/s]"
     ]
    },
    {
     "name": "stdout",
     "output_type": "stream",
     "text": [
      "(8.8125, 9.0)\n"
     ]
    },
    {
     "name": "stderr",
     "output_type": "stream",
     "text": [
      "\n",
      "100%|██████████| 500/500 [00:02<00:00, 195.49it/s]\n",
      "100%|██████████| 500/500 [00:01<00:00, 354.64it/s]\n"
     ]
    },
    {
     "name": "stdout",
     "output_type": "stream",
     "text": [
      "final res 8.90625 with 0.14\n"
     ]
    },
    {
     "name": "stderr",
     "output_type": "stream",
     "text": [
      "100%|██████████| 500/500 [00:02<00:00, 189.23it/s]\n",
      "100%|██████████| 500/500 [00:01<00:00, 473.56it/s]\n",
      "100%|██████████| 500/500 [00:02<00:00, 211.46it/s]\n",
      "100%|██████████| 500/500 [00:01<00:00, 408.38it/s]\n",
      "100%|██████████| 500/500 [00:02<00:00, 239.89it/s]\n",
      "100%|██████████| 500/500 [00:01<00:00, 371.00it/s]\n",
      "100%|██████████| 500/500 [00:02<00:00, 206.06it/s]\n",
      "100%|██████████| 500/500 [00:01<00:00, 362.01it/s]\n",
      "100%|██████████| 500/500 [00:02<00:00, 202.65it/s]\n",
      "100%|██████████| 500/500 [00:01<00:00, 337.88it/s]\n",
      "100%|██████████| 500/500 [00:02<00:00, 191.63it/s]\n",
      "100%|██████████| 500/500 [00:01<00:00, 342.06it/s]"
     ]
    },
    {
     "name": "stdout",
     "output_type": "stream",
     "text": [
      "(6.0, 12)\n"
     ]
    },
    {
     "name": "stderr",
     "output_type": "stream",
     "text": [
      "\n",
      "100%|██████████| 500/500 [00:02<00:00, 221.41it/s]\n",
      "100%|██████████| 500/500 [00:01<00:00, 288.75it/s]"
     ]
    },
    {
     "name": "stdout",
     "output_type": "stream",
     "text": [
      "(9.0, 12)\n"
     ]
    },
    {
     "name": "stderr",
     "output_type": "stream",
     "text": [
      "\n",
      "100%|██████████| 500/500 [00:02<00:00, 206.44it/s]\n",
      "100%|██████████| 500/500 [00:01<00:00, 382.66it/s]\n"
     ]
    },
    {
     "name": "stdout",
     "output_type": "stream",
     "text": [
      "(10.5, 12)\n"
     ]
    },
    {
     "name": "stderr",
     "output_type": "stream",
     "text": [
      "100%|██████████| 500/500 [00:02<00:00, 227.13it/s]\n",
      "100%|██████████| 500/500 [00:01<00:00, 280.20it/s]\n"
     ]
    },
    {
     "name": "stdout",
     "output_type": "stream",
     "text": [
      "(11.25, 12)\n"
     ]
    },
    {
     "name": "stderr",
     "output_type": "stream",
     "text": [
      "100%|██████████| 500/500 [00:02<00:00, 211.03it/s]\n",
      "100%|██████████| 500/500 [00:02<00:00, 242.30it/s]"
     ]
    },
    {
     "name": "stdout",
     "output_type": "stream",
     "text": [
      "(11.25, 11.625)\n"
     ]
    },
    {
     "name": "stderr",
     "output_type": "stream",
     "text": [
      "\n",
      "100%|██████████| 500/500 [00:02<00:00, 236.27it/s]\n",
      "100%|██████████| 500/500 [00:01<00:00, 334.73it/s]"
     ]
    },
    {
     "name": "stdout",
     "output_type": "stream",
     "text": [
      "(11.4375, 11.625)\n"
     ]
    },
    {
     "name": "stderr",
     "output_type": "stream",
     "text": [
      "\n",
      "100%|██████████| 500/500 [00:02<00:00, 233.82it/s]\n",
      "100%|██████████| 500/500 [00:01<00:00, 335.93it/s]"
     ]
    },
    {
     "name": "stdout",
     "output_type": "stream",
     "text": [
      "final res 11.53125 with 0.18\n"
     ]
    },
    {
     "name": "stderr",
     "output_type": "stream",
     "text": [
      "\n",
      "100%|██████████| 500/500 [00:02<00:00, 207.00it/s]\n",
      "100%|██████████| 500/500 [00:01<00:00, 303.20it/s]\n",
      "100%|██████████| 500/500 [00:02<00:00, 208.53it/s]\n",
      "100%|██████████| 500/500 [00:01<00:00, 320.52it/s]\n",
      "100%|██████████| 500/500 [00:02<00:00, 199.65it/s]\n",
      "100%|██████████| 500/500 [00:01<00:00, 327.75it/s]\n",
      "100%|██████████| 500/500 [00:02<00:00, 203.26it/s]\n",
      "100%|██████████| 500/500 [00:01<00:00, 339.90it/s]\n",
      "100%|██████████| 500/500 [00:02<00:00, 192.93it/s]\n",
      "100%|██████████| 500/500 [00:01<00:00, 333.23it/s]\n",
      "100%|██████████| 500/500 [00:02<00:00, 211.69it/s]\n",
      "100%|██████████| 500/500 [00:01<00:00, 297.97it/s]\n",
      "100%|██████████| 500/500 [00:02<00:00, 184.91it/s]\n",
      "100%|██████████| 500/500 [00:01<00:00, 332.97it/s]\n",
      "100%|██████████| 500/500 [00:02<00:00, 181.62it/s]\n",
      "100%|██████████| 500/500 [00:01<00:00, 365.74it/s]\n",
      "100%|██████████| 500/500 [00:02<00:00, 245.43it/s]\n",
      "100%|██████████| 500/500 [00:01<00:00, 259.66it/s]\n"
     ]
    },
    {
     "name": "stdout",
     "output_type": "stream",
     "text": [
      "(6.0, 12)\n"
     ]
    },
    {
     "name": "stderr",
     "output_type": "stream",
     "text": [
      "100%|██████████| 500/500 [00:02<00:00, 216.96it/s]\n",
      "100%|██████████| 500/500 [00:01<00:00, 255.22it/s]"
     ]
    },
    {
     "name": "stdout",
     "output_type": "stream",
     "text": [
      "(9.0, 12)\n"
     ]
    },
    {
     "name": "stderr",
     "output_type": "stream",
     "text": [
      "\n",
      "100%|██████████| 500/500 [00:03<00:00, 164.00it/s]\n",
      "100%|██████████| 500/500 [00:01<00:00, 355.58it/s]\n"
     ]
    },
    {
     "name": "stdout",
     "output_type": "stream",
     "text": [
      "(10.5, 12)\n"
     ]
    },
    {
     "name": "stderr",
     "output_type": "stream",
     "text": [
      "100%|██████████| 500/500 [00:02<00:00, 220.87it/s]\n",
      "100%|██████████| 500/500 [00:02<00:00, 247.62it/s]"
     ]
    },
    {
     "name": "stdout",
     "output_type": "stream",
     "text": [
      "(11.25, 12)\n"
     ]
    },
    {
     "name": "stderr",
     "output_type": "stream",
     "text": [
      "\n",
      "100%|██████████| 500/500 [00:02<00:00, 212.71it/s]\n",
      "100%|██████████| 500/500 [00:01<00:00, 295.26it/s]"
     ]
    },
    {
     "name": "stdout",
     "output_type": "stream",
     "text": [
      "(11.625, 12)\n"
     ]
    },
    {
     "name": "stderr",
     "output_type": "stream",
     "text": [
      "\n",
      "100%|██████████| 500/500 [00:02<00:00, 196.44it/s]\n",
      "100%|██████████| 500/500 [00:01<00:00, 268.38it/s]\n"
     ]
    },
    {
     "name": "stdout",
     "output_type": "stream",
     "text": [
      "(11.8125, 12)\n"
     ]
    },
    {
     "name": "stderr",
     "output_type": "stream",
     "text": [
      "100%|██████████| 500/500 [00:02<00:00, 237.19it/s]\n",
      "100%|██████████| 500/500 [00:01<00:00, 308.17it/s]"
     ]
    },
    {
     "name": "stdout",
     "output_type": "stream",
     "text": [
      "final res 11.90625 with 0.24\n"
     ]
    },
    {
     "name": "stderr",
     "output_type": "stream",
     "text": [
      "\n",
      "100%|██████████| 500/500 [00:02<00:00, 188.16it/s]\n",
      "100%|██████████| 500/500 [00:01<00:00, 369.96it/s]\n",
      "100%|██████████| 500/500 [00:02<00:00, 177.01it/s]\n",
      "100%|██████████| 500/500 [00:01<00:00, 297.61it/s]\n",
      "100%|██████████| 500/500 [00:02<00:00, 191.93it/s]\n",
      "100%|██████████| 500/500 [00:01<00:00, 264.23it/s]\n",
      "100%|██████████| 500/500 [00:02<00:00, 177.19it/s]\n",
      "100%|██████████| 500/500 [00:01<00:00, 304.18it/s]\n",
      "100%|██████████| 500/500 [00:02<00:00, 223.37it/s]\n",
      "100%|██████████| 500/500 [00:01<00:00, 340.88it/s]\n",
      "100%|██████████| 500/500 [00:02<00:00, 220.96it/s]\n",
      "100%|██████████| 500/500 [00:01<00:00, 288.01it/s]\n",
      "100%|██████████| 500/500 [00:02<00:00, 210.42it/s]\n",
      "100%|██████████| 500/500 [00:01<00:00, 329.55it/s]\n",
      "100%|██████████| 500/500 [00:02<00:00, 204.25it/s]\n",
      "100%|██████████| 500/500 [00:01<00:00, 279.16it/s]\n",
      "100%|██████████| 500/500 [00:02<00:00, 214.80it/s]\n",
      "100%|██████████| 500/500 [00:01<00:00, 336.39it/s]\n",
      "100%|██████████| 500/500 [00:02<00:00, 199.03it/s]\n",
      "100%|██████████| 500/500 [00:01<00:00, 357.83it/s]\n",
      "100%|██████████| 500/500 [00:02<00:00, 177.78it/s]\n",
      "100%|██████████| 500/500 [00:01<00:00, 346.55it/s]\n",
      "100%|██████████| 500/500 [00:02<00:00, 220.50it/s]\n",
      "100%|██████████| 500/500 [00:01<00:00, 383.23it/s]\n",
      "100%|██████████| 500/500 [00:02<00:00, 229.47it/s]\n",
      "100%|██████████| 500/500 [00:01<00:00, 349.92it/s]\n",
      "100%|██████████| 500/500 [00:02<00:00, 245.26it/s]\n",
      "100%|██████████| 500/500 [00:01<00:00, 378.66it/s]\n",
      "100%|██████████| 500/500 [00:02<00:00, 240.00it/s]\n",
      "100%|██████████| 500/500 [00:01<00:00, 365.07it/s]\n",
      "100%|██████████| 500/500 [00:02<00:00, 245.59it/s]\n",
      "100%|██████████| 500/500 [00:01<00:00, 421.28it/s]\n",
      "100%|██████████| 500/500 [00:02<00:00, 198.07it/s]\n",
      "100%|██████████| 500/500 [00:01<00:00, 374.46it/s]\n",
      "100%|██████████| 500/500 [00:01<00:00, 255.73it/s]\n",
      "100%|██████████| 500/500 [00:01<00:00, 338.33it/s]\n"
     ]
    }
   ],
   "source": [
    "ris_bin = list()\n",
    "for i in ps:\n",
    "    ris_bin.append((i, runBinary(i, 3)))\n",
    "    pd.DataFrame(ris_bin).to_csv(\"./runALot\")"
   ]
  },
  {
   "cell_type": "code",
   "execution_count": 56,
   "metadata": {},
   "outputs": [
    {
     "data": {
      "text/html": [
       "<div>\n",
       "<style scoped>\n",
       "    .dataframe tbody tr th:only-of-type {\n",
       "        vertical-align: middle;\n",
       "    }\n",
       "\n",
       "    .dataframe tbody tr th {\n",
       "        vertical-align: top;\n",
       "    }\n",
       "\n",
       "    .dataframe thead th {\n",
       "        text-align: right;\n",
       "    }\n",
       "</style>\n",
       "<table border=\"1\" class=\"dataframe\">\n",
       "  <thead>\n",
       "    <tr style=\"text-align: right;\">\n",
       "      <th></th>\n",
       "      <th>0</th>\n",
       "      <th>1</th>\n",
       "    </tr>\n",
       "  </thead>\n",
       "  <tbody>\n",
       "    <tr>\n",
       "      <th>0</th>\n",
       "      <td>0.00</td>\n",
       "      <td>9.28125</td>\n",
       "    </tr>\n",
       "    <tr>\n",
       "      <th>1</th>\n",
       "      <td>0.02</td>\n",
       "      <td>8.15625</td>\n",
       "    </tr>\n",
       "    <tr>\n",
       "      <th>2</th>\n",
       "      <td>0.04</td>\n",
       "      <td>NaN</td>\n",
       "    </tr>\n",
       "    <tr>\n",
       "      <th>3</th>\n",
       "      <td>0.06</td>\n",
       "      <td>5.15625</td>\n",
       "    </tr>\n",
       "    <tr>\n",
       "      <th>4</th>\n",
       "      <td>0.08</td>\n",
       "      <td>NaN</td>\n",
       "    </tr>\n",
       "    <tr>\n",
       "      <th>5</th>\n",
       "      <td>0.10</td>\n",
       "      <td>8.15625</td>\n",
       "    </tr>\n",
       "    <tr>\n",
       "      <th>6</th>\n",
       "      <td>0.12</td>\n",
       "      <td>4.40625</td>\n",
       "    </tr>\n",
       "    <tr>\n",
       "      <th>7</th>\n",
       "      <td>0.14</td>\n",
       "      <td>NaN</td>\n",
       "    </tr>\n",
       "    <tr>\n",
       "      <th>8</th>\n",
       "      <td>0.16</td>\n",
       "      <td>5.15625</td>\n",
       "    </tr>\n",
       "    <tr>\n",
       "      <th>9</th>\n",
       "      <td>0.18</td>\n",
       "      <td>NaN</td>\n",
       "    </tr>\n",
       "    <tr>\n",
       "      <th>10</th>\n",
       "      <td>0.20</td>\n",
       "      <td>5.90625</td>\n",
       "    </tr>\n",
       "    <tr>\n",
       "      <th>11</th>\n",
       "      <td>0.22</td>\n",
       "      <td>11.53125</td>\n",
       "    </tr>\n",
       "    <tr>\n",
       "      <th>12</th>\n",
       "      <td>0.24</td>\n",
       "      <td>NaN</td>\n",
       "    </tr>\n",
       "    <tr>\n",
       "      <th>13</th>\n",
       "      <td>0.26</td>\n",
       "      <td>NaN</td>\n",
       "    </tr>\n",
       "    <tr>\n",
       "      <th>14</th>\n",
       "      <td>0.28</td>\n",
       "      <td>NaN</td>\n",
       "    </tr>\n",
       "    <tr>\n",
       "      <th>15</th>\n",
       "      <td>0.30</td>\n",
       "      <td>7.59375</td>\n",
       "    </tr>\n",
       "    <tr>\n",
       "      <th>16</th>\n",
       "      <td>0.35</td>\n",
       "      <td>11.90625</td>\n",
       "    </tr>\n",
       "    <tr>\n",
       "      <th>17</th>\n",
       "      <td>0.40</td>\n",
       "      <td>NaN</td>\n",
       "    </tr>\n",
       "    <tr>\n",
       "      <th>18</th>\n",
       "      <td>0.45</td>\n",
       "      <td>NaN</td>\n",
       "    </tr>\n",
       "  </tbody>\n",
       "</table>\n",
       "</div>"
      ],
      "text/plain": [
       "       0         1\n",
       "0   0.00   9.28125\n",
       "1   0.02   8.15625\n",
       "2   0.04       NaN\n",
       "3   0.06   5.15625\n",
       "4   0.08       NaN\n",
       "5   0.10   8.15625\n",
       "6   0.12   4.40625\n",
       "7   0.14       NaN\n",
       "8   0.16   5.15625\n",
       "9   0.18       NaN\n",
       "10  0.20   5.90625\n",
       "11  0.22  11.53125\n",
       "12  0.24       NaN\n",
       "13  0.26       NaN\n",
       "14  0.28       NaN\n",
       "15  0.30   7.59375\n",
       "16  0.35  11.90625\n",
       "17  0.40       NaN\n",
       "18  0.45       NaN"
      ]
     },
     "execution_count": 56,
     "metadata": {},
     "output_type": "execute_result"
    }
   ],
   "source": [
    "pd.DataFrame(ris_bin)#.to_csv(\"./run2\")"
   ]
  },
  {
   "cell_type": "code",
   "execution_count": 59,
   "metadata": {},
   "outputs": [
    {
     "data": {
      "text/plain": [
       "[<matplotlib.lines.Line2D at 0x7f06df7efc50>]"
      ]
     },
     "execution_count": 59,
     "metadata": {},
     "output_type": "execute_result"
    },
    {
     "data": {
      "image/png": "[encoded data removed]",
      "text/plain": [
       "<Figure size 432x288 with 1 Axes>"
      ]
     },
     "metadata": {
      "needs_background": "light"
     },
     "output_type": "display_data"
    }
   ],
   "source": [
    "plt.plot([i[0] for i in ris_bin], [i[1] for i in ris_bin])"
   ]
  },
  {
   "cell_type": "code",
   "execution_count": 29,
   "metadata": {},
   "outputs": [
    {
     "data": {
      "text/plain": [
       "[<matplotlib.lines.Line2D at 0x7f06dfb2c6a0>]"
      ]
     },
     "execution_count": 29,
     "metadata": {},
     "output_type": "execute_result"
    },
    {
     "data": {
      "image/png": "[encoded data removed]",
      "text/plain": [
       "<Figure size 432x288 with 1 Axes>"
      ]
     },
     "metadata": {
      "needs_background": "light"
     },
     "output_type": "display_data"
    }
   ],
   "source": [
    "plt.plot(ps, ris_bin)"
   ]
  },
  {
   "cell_type": "code",
   "execution_count": 10,
   "metadata": {},
   "outputs": [
    {
     "name": "stderr",
     "output_type": "stream",
     "text": [
      "100%|██████████| 5000/5000 [02:01<00:00, 41.22it/s]\n",
      "100%|██████████| 5000/5000 [01:55<00:00, 43.31it/s]\n",
      "100%|██████████| 5000/5000 [01:49<00:00, 45.66it/s]\n",
      "100%|██████████| 5000/5000 [01:45<00:00, 47.56it/s]\n",
      "100%|██████████| 5000/5000 [01:42<00:00, 49.01it/s]\n",
      "100%|██████████| 5000/5000 [01:38<00:00, 50.87it/s]\n",
      "100%|██████████| 5000/5000 [00:53<00:00, 92.76it/s]\n",
      "100%|██████████| 5000/5000 [00:58<00:00, 85.54it/s] \n",
      "100%|██████████| 5000/5000 [00:59<00:00, 84.44it/s]\n",
      "100%|██████████| 5000/5000 [01:00<00:00, 82.59it/s]\n",
      "100%|██████████| 5000/5000 [01:03<00:00, 78.89it/s]\n",
      "100%|██████████| 5000/5000 [01:03<00:00, 79.02it/s]\n"
     ]
    }
   ],
   "source": [
    "fix_def = list()\n",
    "bs = np.arange(4, 10, 1)\n",
    "for b in bs:\n",
    "    fix_def.append(runModel(5000, n=30, p=0.05, w=0.1, b=b, all_coop=True, extra_random=0))\n",
    "    \n",
    "fix_coop = list()\n",
    "for b in bs:\n",
    "    fix_coop.append(runModel(5000, n=30, p=0.05, w=0.1, b=b, all_coop=False, extra_random=0))"
   ]
  },
  {
   "cell_type": "code",
   "execution_count": 9,
   "metadata": {},
   "outputs": [
    {
     "ename": "ValueError",
     "evalue": "x and y must have same first dimension, but have shapes (6,) and (12, 5, 2)",
     "output_type": "error",
     "traceback": [
      "\u001b[0;31m---------------------------------------------------------------------------\u001b[0m",
      "\u001b[0;31mValueError\u001b[0m                                Traceback (most recent call last)",
      "\u001b[0;32m<ipython-input-9-e8666823f4a8>\u001b[0m in \u001b[0;36m<module>\u001b[0;34m\u001b[0m\n\u001b[0;32m----> 1\u001b[0;31m \u001b[0mplt\u001b[0m\u001b[0;34m.\u001b[0m\u001b[0mplot\u001b[0m\u001b[0;34m(\u001b[0m\u001b[0mbs\u001b[0m\u001b[0;34m,\u001b[0m \u001b[0mfix_def\u001b[0m\u001b[0;34m)\u001b[0m\u001b[0;34m\u001b[0m\u001b[0;34m\u001b[0m\u001b[0m\n\u001b[0m\u001b[1;32m      2\u001b[0m \u001b[0mplt\u001b[0m\u001b[0;34m.\u001b[0m\u001b[0mplot\u001b[0m\u001b[0;34m(\u001b[0m\u001b[0mbs\u001b[0m\u001b[0;34m,\u001b[0m \u001b[0mfix_coop\u001b[0m\u001b[0;34m)\u001b[0m\u001b[0;34m\u001b[0m\u001b[0;34m\u001b[0m\u001b[0m\n",
      "\u001b[0;32m/anaconda3/lib/python3.6/site-packages/matplotlib/pyplot.py\u001b[0m in \u001b[0;36mplot\u001b[0;34m(scalex, scaley, data, *args, **kwargs)\u001b[0m\n\u001b[1;32m   2787\u001b[0m     return gca().plot(\n\u001b[1;32m   2788\u001b[0m         *args, scalex=scalex, scaley=scaley, **({\"data\": data} if data\n\u001b[0;32m-> 2789\u001b[0;31m         is not None else {}), **kwargs)\n\u001b[0m\u001b[1;32m   2790\u001b[0m \u001b[0;34m\u001b[0m\u001b[0m\n\u001b[1;32m   2791\u001b[0m \u001b[0;34m\u001b[0m\u001b[0m\n",
      "\u001b[0;32m/anaconda3/lib/python3.6/site-packages/matplotlib/axes/_axes.py\u001b[0m in \u001b[0;36mplot\u001b[0;34m(self, scalex, scaley, data, *args, **kwargs)\u001b[0m\n\u001b[1;32m   1664\u001b[0m         \"\"\"\n\u001b[1;32m   1665\u001b[0m         \u001b[0mkwargs\u001b[0m \u001b[0;34m=\u001b[0m \u001b[0mcbook\u001b[0m\u001b[0;34m.\u001b[0m\u001b[0mnormalize_kwargs\u001b[0m\u001b[0;34m(\u001b[0m\u001b[0mkwargs\u001b[0m\u001b[0;34m,\u001b[0m \u001b[0mmlines\u001b[0m\u001b[0;34m.\u001b[0m\u001b[0mLine2D\u001b[0m\u001b[0;34m.\u001b[0m\u001b[0m_alias_map\u001b[0m\u001b[0;34m)\u001b[0m\u001b[0;34m\u001b[0m\u001b[0;34m\u001b[0m\u001b[0m\n\u001b[0;32m-> 1666\u001b[0;31m         \u001b[0mlines\u001b[0m \u001b[0;34m=\u001b[0m \u001b[0;34m[\u001b[0m\u001b[0;34m*\u001b[0m\u001b[0mself\u001b[0m\u001b[0;34m.\u001b[0m\u001b[0m_get_lines\u001b[0m\u001b[0;34m(\u001b[0m\u001b[0;34m*\u001b[0m\u001b[0margs\u001b[0m\u001b[0;34m,\u001b[0m \u001b[0mdata\u001b[0m\u001b[0;34m=\u001b[0m\u001b[0mdata\u001b[0m\u001b[0;34m,\u001b[0m \u001b[0;34m**\u001b[0m\u001b[0mkwargs\u001b[0m\u001b[0;34m)\u001b[0m\u001b[0;34m]\u001b[0m\u001b[0;34m\u001b[0m\u001b[0;34m\u001b[0m\u001b[0m\n\u001b[0m\u001b[1;32m   1667\u001b[0m         \u001b[0;32mfor\u001b[0m \u001b[0mline\u001b[0m \u001b[0;32min\u001b[0m \u001b[0mlines\u001b[0m\u001b[0;34m:\u001b[0m\u001b[0;34m\u001b[0m\u001b[0;34m\u001b[0m\u001b[0m\n\u001b[1;32m   1668\u001b[0m             \u001b[0mself\u001b[0m\u001b[0;34m.\u001b[0m\u001b[0madd_line\u001b[0m\u001b[0;34m(\u001b[0m\u001b[0mline\u001b[0m\u001b[0;34m)\u001b[0m\u001b[0;34m\u001b[0m\u001b[0;34m\u001b[0m\u001b[0m\n",
      "\u001b[0;32m/anaconda3/lib/python3.6/site-packages/matplotlib/axes/_base.py\u001b[0m in \u001b[0;36m__call__\u001b[0;34m(self, *args, **kwargs)\u001b[0m\n\u001b[1;32m    223\u001b[0m                 \u001b[0mthis\u001b[0m \u001b[0;34m+=\u001b[0m \u001b[0margs\u001b[0m\u001b[0;34m[\u001b[0m\u001b[0;36m0\u001b[0m\u001b[0;34m]\u001b[0m\u001b[0;34m,\u001b[0m\u001b[0;34m\u001b[0m\u001b[0;34m\u001b[0m\u001b[0m\n\u001b[1;32m    224\u001b[0m                 \u001b[0margs\u001b[0m \u001b[0;34m=\u001b[0m \u001b[0margs\u001b[0m\u001b[0;34m[\u001b[0m\u001b[0;36m1\u001b[0m\u001b[0;34m:\u001b[0m\u001b[0;34m]\u001b[0m\u001b[0;34m\u001b[0m\u001b[0;34m\u001b[0m\u001b[0m\n\u001b[0;32m--> 225\u001b[0;31m             \u001b[0;32myield\u001b[0m \u001b[0;32mfrom\u001b[0m \u001b[0mself\u001b[0m\u001b[0;34m.\u001b[0m\u001b[0m_plot_args\u001b[0m\u001b[0;34m(\u001b[0m\u001b[0mthis\u001b[0m\u001b[0;34m,\u001b[0m \u001b[0mkwargs\u001b[0m\u001b[0;34m)\u001b[0m\u001b[0;34m\u001b[0m\u001b[0;34m\u001b[0m\u001b[0m\n\u001b[0m\u001b[1;32m    226\u001b[0m \u001b[0;34m\u001b[0m\u001b[0m\n\u001b[1;32m    227\u001b[0m     \u001b[0;32mdef\u001b[0m \u001b[0mget_next_color\u001b[0m\u001b[0;34m(\u001b[0m\u001b[0mself\u001b[0m\u001b[0;34m)\u001b[0m\u001b[0;34m:\u001b[0m\u001b[0;34m\u001b[0m\u001b[0;34m\u001b[0m\u001b[0m\n",
      "\u001b[0;32m/anaconda3/lib/python3.6/site-packages/matplotlib/axes/_base.py\u001b[0m in \u001b[0;36m_plot_args\u001b[0;34m(self, tup, kwargs)\u001b[0m\n\u001b[1;32m    389\u001b[0m             \u001b[0mx\u001b[0m\u001b[0;34m,\u001b[0m \u001b[0my\u001b[0m \u001b[0;34m=\u001b[0m \u001b[0mindex_of\u001b[0m\u001b[0;34m(\u001b[0m\u001b[0mtup\u001b[0m\u001b[0;34m[\u001b[0m\u001b[0;34m-\u001b[0m\u001b[0;36m1\u001b[0m\u001b[0;34m]\u001b[0m\u001b[0;34m)\u001b[0m\u001b[0;34m\u001b[0m\u001b[0;34m\u001b[0m\u001b[0m\n\u001b[1;32m    390\u001b[0m \u001b[0;34m\u001b[0m\u001b[0m\n\u001b[0;32m--> 391\u001b[0;31m         \u001b[0mx\u001b[0m\u001b[0;34m,\u001b[0m \u001b[0my\u001b[0m \u001b[0;34m=\u001b[0m \u001b[0mself\u001b[0m\u001b[0;34m.\u001b[0m\u001b[0m_xy_from_xy\u001b[0m\u001b[0;34m(\u001b[0m\u001b[0mx\u001b[0m\u001b[0;34m,\u001b[0m \u001b[0my\u001b[0m\u001b[0;34m)\u001b[0m\u001b[0;34m\u001b[0m\u001b[0;34m\u001b[0m\u001b[0m\n\u001b[0m\u001b[1;32m    392\u001b[0m \u001b[0;34m\u001b[0m\u001b[0m\n\u001b[1;32m    393\u001b[0m         \u001b[0;32mif\u001b[0m \u001b[0mself\u001b[0m\u001b[0;34m.\u001b[0m\u001b[0mcommand\u001b[0m \u001b[0;34m==\u001b[0m \u001b[0;34m'plot'\u001b[0m\u001b[0;34m:\u001b[0m\u001b[0;34m\u001b[0m\u001b[0;34m\u001b[0m\u001b[0m\n",
      "\u001b[0;32m/anaconda3/lib/python3.6/site-packages/matplotlib/axes/_base.py\u001b[0m in \u001b[0;36m_xy_from_xy\u001b[0;34m(self, x, y)\u001b[0m\n\u001b[1;32m    268\u001b[0m         \u001b[0;32mif\u001b[0m \u001b[0mx\u001b[0m\u001b[0;34m.\u001b[0m\u001b[0mshape\u001b[0m\u001b[0;34m[\u001b[0m\u001b[0;36m0\u001b[0m\u001b[0;34m]\u001b[0m \u001b[0;34m!=\u001b[0m \u001b[0my\u001b[0m\u001b[0;34m.\u001b[0m\u001b[0mshape\u001b[0m\u001b[0;34m[\u001b[0m\u001b[0;36m0\u001b[0m\u001b[0;34m]\u001b[0m\u001b[0;34m:\u001b[0m\u001b[0;34m\u001b[0m\u001b[0;34m\u001b[0m\u001b[0m\n\u001b[1;32m    269\u001b[0m             raise ValueError(\"x and y must have same first dimension, but \"\n\u001b[0;32m--> 270\u001b[0;31m                              \"have shapes {} and {}\".format(x.shape, y.shape))\n\u001b[0m\u001b[1;32m    271\u001b[0m         \u001b[0;32mif\u001b[0m \u001b[0mx\u001b[0m\u001b[0;34m.\u001b[0m\u001b[0mndim\u001b[0m \u001b[0;34m>\u001b[0m \u001b[0;36m2\u001b[0m \u001b[0;32mor\u001b[0m \u001b[0my\u001b[0m\u001b[0;34m.\u001b[0m\u001b[0mndim\u001b[0m \u001b[0;34m>\u001b[0m \u001b[0;36m2\u001b[0m\u001b[0;34m:\u001b[0m\u001b[0;34m\u001b[0m\u001b[0;34m\u001b[0m\u001b[0m\n\u001b[1;32m    272\u001b[0m             raise ValueError(\"x and y can be no greater than 2-D, but have \"\n",
      "\u001b[0;31mValueError\u001b[0m: x and y must have same first dimension, but have shapes (6,) and (12, 5, 2)"
     ]
    },
    {
     "data": {
      "image/png": "[encoded data removed]",
      "text/plain": [
       "<Figure size 432x288 with 1 Axes>"
      ]
     },
     "metadata": {
      "needs_background": "light"
     },
     "output_type": "display_data"
    }
   ],
   "source": [
    "plt.plot(bs, fix_def)\n",
    "plt.plot(bs, fix_coop)"
   ]
  },
  {
   "cell_type": "code",
   "execution_count": 62,
   "metadata": {},
   "outputs": [
    {
     "data": {
      "text/plain": [
       "[<matplotlib.lines.Line2D at 0x7f06df839cf8>]"
      ]
     },
     "execution_count": 62,
     "metadata": {},
     "output_type": "execute_result"
    },
    {
     "data": {
      "image/png": "[encoded data removed]",
      "text/plain": [
       "<Figure size 432x288 with 1 Axes>"
      ]
     },
     "metadata": {
      "needs_background": "light"
     },
     "output_type": "display_data"
    }
   ],
   "source": [
    "plt.plot(bs, fix_def)\n",
    "plt.plot(bs, fix_coop)"
   ]
  },
  {
   "cell_type": "code",
   "execution_count": 43,
   "metadata": {},
   "outputs": [
    {
     "data": {
      "text/plain": [
       "[19.116, 17.6376, 16.8792, 16.467, 16.3326, 16.2636]"
      ]
     },
     "execution_count": 43,
     "metadata": {},
     "output_type": "execute_result"
    }
   ],
   "source": [
    "fix_def"
   ]
  },
  {
   "cell_type": "code",
   "execution_count": 36,
   "metadata": {},
   "outputs": [
    {
     "name": "stderr",
     "output_type": "stream",
     "text": [
      "100%|██████████| 10000/10000 [00:04<00:00, 2292.46it/s]\n",
      "100%|██████████| 10000/10000 [01:08<00:00, 146.59it/s]\n",
      "100%|██████████| 10000/10000 [00:59<00:00, 168.12it/s]\n",
      "100%|██████████| 10000/10000 [00:48<00:00, 206.31it/s]\n",
      "100%|██████████| 10000/10000 [00:46<00:00, 213.71it/s]\n",
      "100%|██████████| 10000/10000 [00:43<00:00, 228.73it/s]\n",
      "100%|██████████| 10000/10000 [00:42<00:00, 233.75it/s]\n",
      "100%|██████████| 10000/10000 [00:44<00:00, 227.12it/s]\n",
      "100%|██████████| 10000/10000 [00:42<00:00, 234.39it/s]\n",
      "100%|██████████| 10000/10000 [00:44<00:00, 226.48it/s]\n"
     ]
    }
   ],
   "source": [
    "fix_coop = list()\n",
    "bs = np.arange(0, 6, 0.5)\n",
    "bs = np.arange(0, 50, 5)\n",
    "\n",
    "for b in bs:\n",
    "    fix_coop.append(runModel(10000, n=50, p=0, w=0.5, b=b, all_coop=False))"
   ]
  },
  {
   "cell_type": "code",
   "execution_count": 39,
   "metadata": {},
   "outputs": [
    {
     "data": {
      "text/plain": [
       "<matplotlib.collections.LineCollection at 0x7f995ef1ae48>"
      ]
     },
     "execution_count": 39,
     "metadata": {},
     "output_type": "execute_result"
    },
    {
     "data": {
      "image/png": "[encoded data removed]",
      "text/plain": [
       "<Figure size 432x288 with 1 Axes>"
      ]
     },
     "metadata": {
      "needs_background": "light"
     },
     "output_type": "display_data"
    }
   ],
   "source": [
    "plt.plot(bs, fix_coop)\n",
    "plt.hlines(0.05, 0, 40)"
   ]
  },
  {
   "cell_type": "code",
   "execution_count": null,
   "metadata": {},
   "outputs": [],
   "source": []
  },
  {
   "cell_type": "code",
   "execution_count": 18,
   "metadata": {},
   "outputs": [
    {
     "name": "stderr",
     "output_type": "stream",
     "text": [
      "100%|██████████| 5000/5000 [00:02<00:00, 2136.48it/s]\n",
      "100%|██████████| 5000/5000 [00:02<00:00, 2057.52it/s]\n",
      "100%|██████████| 5000/5000 [00:02<00:00, 2063.07it/s]\n",
      "100%|██████████| 5000/5000 [00:02<00:00, 2022.59it/s]\n",
      "100%|██████████| 5000/5000 [00:02<00:00, 1999.70it/s]\n",
      "100%|██████████| 5000/5000 [00:02<00:00, 1909.05it/s]\n",
      "100%|██████████| 5000/5000 [00:02<00:00, 1969.69it/s]\n",
      "100%|██████████| 5000/5000 [00:02<00:00, 1974.76it/s]\n",
      "100%|██████████| 5000/5000 [00:02<00:00, 2005.21it/s]\n",
      "100%|██████████| 5000/5000 [00:02<00:00, 1983.50it/s]\n"
     ]
    }
   ],
   "source": [
    "fix_def = list()\n",
    "bs = np.arange(0, 20, 2)\n",
    "for b in bs:\n",
    "    fix_def.append(runModel(5000, n = 10, p=0, w=0.01, b=b, all_coop=True))"
   ]
  },
  {
   "cell_type": "code",
   "execution_count": 19,
   "metadata": {},
   "outputs": [
    {
     "data": {
      "text/plain": [
       "[<matplotlib.lines.Line2D at 0x7f995f82bb70>]"
      ]
     },
     "execution_count": 19,
     "metadata": {},
     "output_type": "execute_result"
    },
    {
     "data": {
      "image/png": "[encoded data removed]",
      "text/plain": [
       "<Figure size 432x288 with 1 Axes>"
      ]
     },
     "metadata": {
      "needs_background": "light"
     },
     "output_type": "display_data"
    }
   ],
   "source": [
    "plt.plot(bs, fix_def)"
   ]
  },
  {
   "cell_type": "code",
   "execution_count": null,
   "metadata": {},
   "outputs": [],
   "source": []
  },
  {
   "cell_type": "code",
   "execution_count": null,
   "metadata": {},
   "outputs": [],
   "source": []
  },
  {
   "cell_type": "code",
   "execution_count": 22,
   "metadata": {},
   "outputs": [
    {
     "data": {
      "text/plain": [
       "Text(0, 0.5, 'num of cooperators')"
      ]
     },
     "execution_count": 22,
     "metadata": {},
     "output_type": "execute_result"
    },
    {
     "data": {
      "image/png": "[encoded data removed]",
      "text/plain": [
       "<Figure size 432x288 with 1 Axes>"
      ]
     },
     "metadata": {
      "needs_background": "light"
     },
     "output_type": "display_data"
    }
   ],
   "source": [
    "r_long = sorted(r, key = lambda a: len(a))[-20:]\n",
    "\n",
    "for path in r_long:\n",
    "    plt.plot(path)\n",
    "    \n",
    "plt.xlabel('time')\n",
    "plt.ylabel('num of cooperators')\n",
    "#plt.title('fuck off we dont know you', fontsize=70)\n",
    "#plt.savefig('goodone.eps', format='eps', dpi=1000)"
   ]
  },
  {
   "cell_type": "code",
   "execution_count": 21,
   "metadata": {},
   "outputs": [
    {
     "data": {
      "image/png": "[encoded data removed]",
      "text/plain": [
       "<Figure size 432x288 with 1 Axes>"
      ]
     },
     "metadata": {
      "needs_background": "light"
     },
     "output_type": "display_data"
    }
   ],
   "source": [
    "sns.distplot(np.log([len(i) for i in r]), kde=False)\n",
    "plt.yscale(\"log\")\n",
    "plt.xlabel('finishing round')\n",
    "plt.ylabel('')\n",
    "plt.savefig('distgoodone.png')"
   ]
  },
  {
   "cell_type": "code",
   "execution_count": 18,
   "metadata": {
    "collapsed": true
   },
   "outputs": [],
   "source": [
    "# ratio"
   ]
  },
  {
   "cell_type": "code",
   "execution_count": 37,
   "metadata": {},
   "outputs": [
    {
     "data": {
      "text/plain": [
       "Counter({0: 30000})"
      ]
     },
     "execution_count": 37,
     "metadata": {},
     "output_type": "execute_result"
    }
   ],
   "source": [
    "final = Counter([i[-1] for i in r])\n",
    "final"
   ]
  },
  {
   "cell_type": "code",
   "execution_count": 29,
   "metadata": {},
   "outputs": [
    {
     "data": {
      "text/plain": [
       "0.9975966666666667"
      ]
     },
     "execution_count": 29,
     "metadata": {},
     "output_type": "execute_result"
    }
   ],
   "source": [
    "final[list(final.keys())[0]]/sum(list(final.values()))"
   ]
  },
  {
   "cell_type": "code",
   "execution_count": 30,
   "metadata": {},
   "outputs": [
    {
     "data": {
      "text/plain": [
       "0.0024033333333333333"
      ]
     },
     "execution_count": 30,
     "metadata": {},
     "output_type": "execute_result"
    }
   ],
   "source": [
    "final[list(final.keys())[1]]/sum(list(final.values()))"
   ]
  },
  {
   "cell_type": "markdown",
   "metadata": {},
   "source": [
    "# Check exp"
   ]
  },
  {
   "cell_type": "code",
   "execution_count": 39,
   "metadata": {},
   "outputs": [
    {
     "data": {
      "text/plain": [
       "0.9999546021312976"
      ]
     },
     "execution_count": 39,
     "metadata": {},
     "output_type": "execute_result"
    }
   ],
   "source": [
    "exponent = 10\n",
    "1/(1+np.exp(-exponent))"
   ]
  },
  {
   "cell_type": "code",
   "execution_count": 40,
   "metadata": {},
   "outputs": [
    {
     "data": {
      "text/plain": [
       "4.5397868702434395e-05"
      ]
     },
     "execution_count": 40,
     "metadata": {},
     "output_type": "execute_result"
    }
   ],
   "source": [
    "exponent = -10\n",
    "1/(1+np.exp(-exponent))"
   ]
  },
  {
   "cell_type": "code",
   "execution_count": 41,
   "metadata": {
    "collapsed": true
   },
   "outputs": [],
   "source": [
    "from scipy.special import expit"
   ]
  },
  {
   "cell_type": "code",
   "execution_count": 55,
   "metadata": {},
   "outputs": [
    {
     "data": {
      "text/plain": [
       "[<matplotlib.lines.Line2D at 0x7f995e92f588>]"
      ]
     },
     "execution_count": 55,
     "metadata": {},
     "output_type": "execute_result"
    },
    {
     "data": {
      "image/png": "[encoded data removed]",
      "text/plain": [
       "<Figure size 432x288 with 1 Axes>"
      ]
     },
     "metadata": {
      "needs_background": "light"
     },
     "output_type": "display_data"
    }
   ],
   "source": [
    "plt.plot([expit(i) for i in range(-10, 10)])\n",
    "plt.plot([expit(4*i) for i in range(-10, 10)])\n",
    "plt.plot([expit(i/4) for i in range(-10, 10)])"
   ]
  },
  {
   "cell_type": "code",
   "execution_count": null,
   "metadata": {
    "collapsed": true
   },
   "outputs": [],
   "source": []
  },
  {
   "cell_type": "code",
   "execution_count": null,
   "metadata": {},
   "outputs": [],
   "source": []
  },
  {
   "cell_type": "code",
   "execution_count": 12,
   "metadata": {},
   "outputs": [
    {
     "name": "stderr",
     "output_type": "stream",
     "text": [
      "100%|██████████| 100/100 [00:02<00:00,  5.19it/s]\n",
      "100%|██████████| 100/100 [00:02<00:00, 36.98it/s]\n",
      "100%|██████████| 100/100 [00:02<00:00, 37.35it/s]\n",
      "100%|██████████| 100/100 [00:02<00:00, 36.69it/s]\n",
      "100%|██████████| 100/100 [00:03<00:00, 33.07it/s]\n",
      "100%|██████████| 100/100 [00:02<00:00, 37.09it/s]\n",
      "100%|██████████| 100/100 [00:02<00:00, 34.19it/s]\n",
      "100%|██████████| 100/100 [00:02<00:00, 34.14it/s]\n",
      "100%|██████████| 100/100 [00:02<00:00, 34.06it/s]\n",
      "100%|██████████| 100/100 [00:02<00:00, 34.04it/s]\n",
      "100%|██████████| 100/100 [00:02<00:00, 35.28it/s]\n"
     ]
    },
    {
     "ename": "IndexError",
     "evalue": "tuple index out of range",
     "output_type": "error",
     "traceback": [
      "\u001b[0;31m---------------------------------------------------------------------------\u001b[0m",
      "\u001b[0;31mIndexError\u001b[0m                                Traceback (most recent call last)",
      "\u001b[0;32m<ipython-input-12-755d59d43add>\u001b[0m in \u001b[0;36m<module>\u001b[0;34m\u001b[0m\n\u001b[1;32m     16\u001b[0m         \u001b[0mindice\u001b[0m \u001b[0;34m=\u001b[0m \u001b[0;36m0\u001b[0m\u001b[0;34m\u001b[0m\u001b[0;34m\u001b[0m\u001b[0m\n\u001b[1;32m     17\u001b[0m \u001b[0;34m\u001b[0m\u001b[0m\n\u001b[0;32m---> 18\u001b[0;31m         \u001b[0;32mfor\u001b[0m \u001b[0mitem\u001b[0m \u001b[0;32min\u001b[0m \u001b[0mlista\u001b[0m\u001b[0;34m[\u001b[0m\u001b[0;36m2\u001b[0m\u001b[0;34m]\u001b[0m\u001b[0;34m:\u001b[0m\u001b[0;34m\u001b[0m\u001b[0;34m\u001b[0m\u001b[0m\n\u001b[0m\u001b[1;32m     19\u001b[0m             \u001b[0;32mif\u001b[0m \u001b[0mitem\u001b[0m\u001b[0;34m:\u001b[0m \u001b[0mtmp\u001b[0m\u001b[0;34m.\u001b[0m\u001b[0mappend\u001b[0m\u001b[0;34m(\u001b[0m\u001b[0mlista\u001b[0m\u001b[0;34m[\u001b[0m\u001b[0;36m1\u001b[0m\u001b[0;34m]\u001b[0m\u001b[0;34m[\u001b[0m\u001b[0mindice\u001b[0m\u001b[0;34m]\u001b[0m\u001b[0;34m)\u001b[0m\u001b[0;34m\u001b[0m\u001b[0;34m\u001b[0m\u001b[0m\n\u001b[1;32m     20\u001b[0m             \u001b[0mindice\u001b[0m \u001b[0;34m+=\u001b[0m \u001b[0;36m1\u001b[0m\u001b[0;34m\u001b[0m\u001b[0;34m\u001b[0m\u001b[0m\n",
      "\u001b[0;31mIndexError\u001b[0m: tuple index out of range"
     ]
    }
   ],
   "source": [
    "ws = [0.01]\n",
    "ps = np.arange(0, 1.1, 0.1)\n",
    "\n",
    "means_total = list()\n",
    "sims_total = list()\n",
    "\n",
    "for w in ws:\n",
    "    means=list()\n",
    "    stds=list()\n",
    "    sims = list()\n",
    "    \n",
    "    coops = [runModel(100, n=30, p=p, w=w, b=5, all_coop=False, extra_random=0) for p in ps]\n",
    "        \n",
    "    for lista in coops:\n",
    "        tmp = list()\n",
    "        indice = 0\n",
    "\n",
    "        for item in lista[2]:\n",
    "            if item: tmp.append(lista[1][indice])\n",
    "            indice += 1\n",
    "\n",
    "        sims.append(len(tmp))\n",
    "\n",
    "    sims_total.append(sims)\n",
    "    plt.scatter(ps, sims, label='w={}'.format(w))\n",
    "    \n",
    "    \n",
    "plt.ylabel('fixation of cooperation')\n",
    "plt.xlabel('p')\n",
    "\n",
    "plt.legend(loc='center left', bbox_to_anchor=(1, 0.5))\n",
    "\n",
    "plt.tight_layout()\n",
    "\n",
    "plt.savefig('fixation_prob.eps', format='eps', dpi=5000)"
   ]
  },
  {
   "cell_type": "code",
   "execution_count": null,
   "metadata": {},
   "outputs": [],
   "source": [
    "i = 0\n",
    "\n",
    "#sims_total = data = pd.read_csv(\"data_sims_prob.csv\") \n",
    "#tmp_sims = sims_total + sims_total_tmp\n",
    "\n",
    "\n",
    "for item in sims_total:\n",
    "    item = np.true_divide(item, 5000)\n",
    "    plt.scatter(ps, item)\n",
    "    plt.plot(ps, item, label='w={}'.format(ws[i]))\n",
    "    i += 1\n",
    "    \n",
    "plt.hlines(1/30, 0, 1, label='well-mixed')\n",
    "plt.xlabel('p')\n",
    "plt.ylabel('fixation probability')\n",
    "#plt.title('fixation prob. for different selection strengths')\n",
    "\n",
    "plt.legend(loc='center left', bbox_to_anchor=(1, 0.5))\n",
    "\n",
    "plt.tight_layout()\n",
    "\n",
    "plt.savefig('fixation_prob.eps', format='eps', dpi=5000)\n"
   ]
  }
 ],
 "metadata": {
  "kernelspec": {
   "display_name": "Python 3",
   "language": "python",
   "name": "python3"
  },
  "language_info": {
   "codemirror_mode": {
    "name": "ipython",
    "version": 3
   },
   "file_extension": ".py",
   "mimetype": "text/x-python",
   "name": "python",
   "nbconvert_exporter": "python",
   "pygments_lexer": "ipython3",
   "version": "3.6.8"
  }
 },
 "nbformat": 4,
 "nbformat_minor": 2
}
